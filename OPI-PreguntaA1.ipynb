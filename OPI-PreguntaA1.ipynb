{
 "cells": [
  {
   "cell_type": "code",
   "execution_count": 1,
   "metadata": {
    "collapsed": false
   },
   "outputs": [
    {
     "name": "stderr",
     "output_type": "stream",
     "text": [
      "WARNING: Method definition describe(AbstractArray) in module StatsBase at /Users/Leo/.julia/v0.5/StatsBase/src/scalarstats.jl:560 overwritten in module DataFrames at /Users/Leo/.julia/v0.5/DataFrames/src/abstractdataframe/abstractdataframe.jl:407.\n"
     ]
    }
   ],
   "source": [
    "using ExcelReaders\n",
    "using PyPlot"
   ]
  },
  {
   "cell_type": "code",
   "execution_count": 3,
   "metadata": {
    "collapsed": false
   },
   "outputs": [
    {
     "data": {
      "text/plain": [
       "ExcelFile <sase-2016-hitorico-10032017.xlsx>"
      ]
     },
     "execution_count": 3,
     "metadata": {},
     "output_type": "execute_result"
    }
   ],
   "source": [
    "f = openxl(\"sase-2016-hitorico-10032017.xlsx\")"
   ]
  },
  {
   "cell_type": "code",
   "execution_count": 7,
   "metadata": {
    "collapsed": false
   },
   "outputs": [
    {
     "data": {
      "text/plain": [
       "ExcelFile <aeropuertos-septiembre-2017-23102017.xlsx>"
      ]
     },
     "execution_count": 7,
     "metadata": {},
     "output_type": "execute_result"
    }
   ],
   "source": [
    "g = openxl(\"aeropuertos-septiembre-2017-23102017.xlsx\")"
   ]
  },
  {
   "cell_type": "code",
   "execution_count": 42,
   "metadata": {
    "collapsed": true
   },
   "outputs": [],
   "source": [
    "DataNac = readxl(f, \"REG NAC!A7:AO651\");"
   ]
  },
  {
   "cell_type": "code",
   "execution_count": 126,
   "metadata": {
    "collapsed": true
   },
   "outputs": [],
   "source": [
    "DataInt = readxl(f, \"REG INT!A7:AO868\");"
   ]
  },
  {
   "cell_type": "code",
   "execution_count": 76,
   "metadata": {
    "collapsed": true
   },
   "outputs": [],
   "source": [
    "DataAeropuertos = readxl(g, \"TD AEROPUERTOS!A7:M67\");"
   ]
  },
  {
   "cell_type": "markdown",
   "metadata": {},
   "source": [
    "### Pregunta 2"
   ]
  },
  {
   "cell_type": "markdown",
   "metadata": {},
   "source": [
    "#### a) Saber el número de aeropuertos. "
   ]
  },
  {
   "cell_type": "markdown",
   "metadata": {},
   "source": [
    "Primero busquemos si el número de aeropuertos de donde salen aviones es el mismo que aquellos a donde llegan aviones."
   ]
  },
  {
   "cell_type": "markdown",
   "metadata": {},
   "source": [
    "#### Para vuelos nacionales:\n"
   ]
  },
  {
   "cell_type": "markdown",
   "metadata": {},
   "source": [
    "\n",
    "DataNac[:, 1] se refiere a los aeropuertos de origen;\n",
    "\n",
    "DataNac[:, 2] se refiere a los aeropuertos destino."
   ]
  },
  {
   "cell_type": "code",
   "execution_count": 316,
   "metadata": {
    "collapsed": false
   },
   "outputs": [
    {
     "data": {
      "text/plain": [
       "58"
      ]
     },
     "execution_count": 316,
     "metadata": {},
     "output_type": "execute_result"
    }
   ],
   "source": [
    "origen_destino = 1\n",
    "count_aero = 0\n",
    "for i = 2:length(DataNac[:, origen_destino])\n",
    "    if sort(DataNac[:, origen_destino])[i-1] != sort(DataNac[:, origen_destino])[i]\n",
    "        count_aero += 1\n",
    "    end\n",
    "end\n",
    "count_aero"
   ]
  },
  {
   "cell_type": "code",
   "execution_count": 317,
   "metadata": {
    "collapsed": false
   },
   "outputs": [
    {
     "data": {
      "text/plain": [
       "58"
      ]
     },
     "execution_count": 317,
     "metadata": {},
     "output_type": "execute_result"
    }
   ],
   "source": [
    "origen_destino = 2\n",
    "count_aero = 0\n",
    "for i = 2:length(DataNac[:, origen_destino])\n",
    "    if sort(DataNac[:, origen_destino])[i-1] != sort(DataNac[:, origen_destino])[i]\n",
    "        count_aero += 1\n",
    "    end\n",
    "end\n",
    "count_aero"
   ]
  },
  {
   "cell_type": "markdown",
   "metadata": {},
   "source": [
    "¡Check! Hay 58 aeropuertos en el país de donde salen y llegan vuelos nacionales a partir de la base de datos de origenes y destinos.\n",
    "\n",
    "Calculemos cuantos aeropuertos se encuentran en ```DataAeropuertos```."
   ]
  },
  {
   "cell_type": "code",
   "execution_count": 77,
   "metadata": {
    "collapsed": false
   },
   "outputs": [
    {
     "data": {
      "text/plain": [
       "61"
      ]
     },
     "execution_count": 77,
     "metadata": {},
     "output_type": "execute_result"
    }
   ],
   "source": [
    "length(DataAeropuertos[:, end])"
   ]
  },
  {
   "cell_type": "markdown",
   "metadata": {},
   "source": [
    "Hay una diferencia de dos aeropuertos...\n",
    "\n",
    "Sin embargo, realizando un pequeño análisis acerca de los aeropuertos que tuvieron actividad en 2017 (año de las tablas de origen-destino), ¡encontramos que hay dos aeropuertos que no tuvieron actividad en 2017!"
   ]
  },
  {
   "cell_type": "code",
   "execution_count": 74,
   "metadata": {
    "collapsed": false
   },
   "outputs": [
    {
     "data": {
      "text/plain": [
       "13-element DataArrays.DataArray{Any,1}:\n",
       "  \"TERAN\"\n",
       " 0.0     \n",
       " 0.0     \n",
       " 0.0     \n",
       " 0.0     \n",
       " 0.0     \n",
       " 0.0     \n",
       " 0.0     \n",
       " 0.0     \n",
       " 0.0     \n",
       " 0.0     \n",
       " 0.0     \n",
       " 0.0     "
      ]
     },
     "execution_count": 74,
     "metadata": {},
     "output_type": "execute_result"
    }
   ],
   "source": [
    "DataAeropuertos[60,:]"
   ]
  },
  {
   "cell_type": "code",
   "execution_count": 78,
   "metadata": {
    "collapsed": false
   },
   "outputs": [
    {
     "data": {
      "text/plain": [
       "13-element DataArrays.DataArray{Any,1}:\n",
       "    \"SAN CRISTOBAL DE LAS CASAS\"\n",
       "  29.0                          \n",
       "  50.0                          \n",
       "  83.0                          \n",
       " 112.0                          \n",
       "   0.0                          \n",
       "   0.0                          \n",
       "   0.0                          \n",
       "   0.0                          \n",
       "   0.0                          \n",
       "   0.0                          \n",
       "   0.0                          \n",
       "   0.0                          "
      ]
     },
     "execution_count": 78,
     "metadata": {},
     "output_type": "execute_result"
    }
   ],
   "source": [
    "DataAeropuertos[61, :]"
   ]
  },
  {
   "cell_type": "code",
   "execution_count": 315,
   "metadata": {
    "collapsed": false
   },
   "outputs": [
    {
     "data": {
      "text/plain": [
       "13-element DataArrays.DataArray{Any,1}:\n",
       "     \"IXTEPEC\"\n",
       "    0.0       \n",
       "    0.0       \n",
       "    0.0       \n",
       "    0.0       \n",
       "    0.0       \n",
       "    0.0       \n",
       "    0.0       \n",
       "    0.0       \n",
       "    0.0       \n",
       "    0.0       \n",
       "    0.0       \n",
       " 2268.53      "
      ]
     },
     "execution_count": 315,
     "metadata": {},
     "output_type": "execute_result"
    }
   ],
   "source": [
    "DataAeropuertos[52, :]"
   ]
  },
  {
   "cell_type": "markdown",
   "metadata": {},
   "source": [
    "Observamos como no hay ningún dato para el aeropuerto de Terán, San Cristobal de las Casas e Ixtepec en 2016...\n"
   ]
  },
  {
   "cell_type": "markdown",
   "metadata": {},
   "source": [
    "### ¿Son consistentes las diferentes tablas entre esos 58 aeropuertos?"
   ]
  },
  {
   "cell_type": "markdown",
   "metadata": {},
   "source": [
    "#### Encontramos que los siguientes aeropuertos solo están en la tabla de origen-destino"
   ]
  },
  {
   "cell_type": "markdown",
   "metadata": {},
   "source": [
    "+ Jalapa;\n",
    "\n",
    "+ Lázaro Cárdenas;\n",
    "\n",
    "+ Piedras Negras;\n",
    "\n",
    "+ Punta Peñasco;\n",
    "\n",
    "+ Saltillo."
   ]
  },
  {
   "cell_type": "markdown",
   "metadata": {},
   "source": [
    "####  Y lo siguientes sólo se encuentran en la tabla de aeropuertos"
   ]
  },
  {
   "cell_type": "markdown",
   "metadata": {},
   "source": [
    "+ Guaymas;\n",
    "\n",
    "+ Nogales;\n",
    "\n",
    "+ Tamuín;\n",
    "\n",
    "+ Tehuacán."
   ]
  },
  {
   "cell_type": "markdown",
   "metadata": {},
   "source": [
    "#### Ya aquí encontramos un problema... ¿qué hacer con estos?"
   ]
  },
  {
   "cell_type": "markdown",
   "metadata": {},
   "source": [
    "+ Según Wikipedia/Anexo: Estadísticas de aeropuertos de México (hm hm), tanto Guaymas, Nogales, Tamuín y Tehuacán no tienen vuelos comerciales, lo cual explicaría porque no están en la tabla de origen-destino.\n",
    "\n",
    "+ Los cinco aeropuertos que no se encuentran en la tabla de aeropuertos son considerados como \"aeropuertos pequeños\" según Wikipedia.\n",
    "\n",
    "+ Al leer las referencias en Wikipedia, encontramos que se citan a los mismo datos que se están analizando aquí. Esto vuelve al argumento un poco circular, pero para fines de rápidez y de utilidad, se mantendrá lo dicho."
   ]
  },
  {
   "cell_type": "markdown",
   "metadata": {},
   "source": [
    "#### Si para los \"aeropuertos pequeños\" hay estadísticas, entonces vamos a incluirlos en la lista de aeropuertos."
   ]
  },
  {
   "cell_type": "markdown",
   "metadata": {},
   "source": [
    "#### Estudiemos ahora los vuelos internacionales"
   ]
  },
  {
   "cell_type": "markdown",
   "metadata": {},
   "source": [
    "#### Veámos si pasa lo mismo para vuelos internacionales."
   ]
  },
  {
   "cell_type": "code",
   "execution_count": 127,
   "metadata": {
    "collapsed": false
   },
   "outputs": [
    {
     "data": {
      "text/plain": [
       "166"
      ]
     },
     "execution_count": 127,
     "metadata": {},
     "output_type": "execute_result"
    }
   ],
   "source": [
    "origen_destino = 1\n",
    "count_aero_int = 1\n",
    "for i = 2:length(DataInt[:, 1])\n",
    "    if sort(DataInt[:, origen_destino])[i-1] != sort(DataInt[:, origen_destino])[i]\n",
    "        count_aero_int += 1\n",
    "    end\n",
    "end\n",
    "count_aero_int"
   ]
  },
  {
   "cell_type": "code",
   "execution_count": 128,
   "metadata": {
    "collapsed": false
   },
   "outputs": [
    {
     "data": {
      "text/plain": [
       "176"
      ]
     },
     "execution_count": 128,
     "metadata": {},
     "output_type": "execute_result"
    }
   ],
   "source": [
    "origen_destino = 2\n",
    "count_aero_int = 1\n",
    "for i = 2:length(DataInt[:, 1])\n",
    "    if sort(DataInt[:, origen_destino])[i-1] != sort(DataInt[:, origen_destino])[i]\n",
    "        count_aero_int += 1\n",
    "    end\n",
    "end\n",
    "count_aero_int"
   ]
  },
  {
   "cell_type": "markdown",
   "metadata": {},
   "source": [
    "Para ```origen_destino=1``` encontramos 166 aeropuertos, mientras que para ```origen_destino=2``` encontramos 176 aeropuertos... Esto significa que hay un mayor número de aeropuertos destino que de origen.\n",
    "\n",
    "En 2017 solo hay 59 aeropuertos mexicanos activos. ¿Todos estos participan en vuelos internacionales?"
   ]
  },
  {
   "cell_type": "markdown",
   "metadata": {},
   "source": [
    "#### nombres de los aeropuertos"
   ]
  },
  {
   "cell_type": "code",
   "execution_count": 355,
   "metadata": {
    "collapsed": false
   },
   "outputs": [],
   "source": [
    "Nombres = Array{String}(54)\n",
    "Nombres[1:51] = DataAeropuertos[1:51,1];\n",
    "Nombres[52:53] = DataAeropuertos[53:54, 1];\n",
    "Nombres[54] = DataAeropuertos[56, 1];"
   ]
  },
  {
   "cell_type": "markdown",
   "metadata": {},
   "source": [
    "+ Vamos a agregar los cinco \"aeropuertos pequeños\""
   ]
  },
  {
   "cell_type": "code",
   "execution_count": 356,
   "metadata": {
    "collapsed": false
   },
   "outputs": [
    {
     "data": {
      "text/plain": [
       "59-element Array{String,1}:\n",
       " \"CIUDAD DE MÉXICO/MEXICO CITY\"\n",
       " \"CANCUN\"                      \n",
       " \"GUADALAJARA\"                 \n",
       " \"MONTERREY\"                   \n",
       " \"TIJUANA\"                     \n",
       " \"SAN JOSE DEL CABO\"           \n",
       " \"PUERTO VALLARTA\"             \n",
       " \"MERIDA\"                      \n",
       " \"BAJIO\"                       \n",
       " \"CULIACAN\"                    \n",
       " \"HERMOSILLO\"                  \n",
       " \"CHIHUAHUA\"                   \n",
       " \"VERACRUZ\"                    \n",
       " ⋮                             \n",
       " \"MATAMOROS\"                   \n",
       " \"NUEVO LAREDO\"                \n",
       " \"CD. VICTORIA\"                \n",
       " \"LORETO\"                      \n",
       " \"POZA RICA\"                   \n",
       " \"CUERNAVACA\"                  \n",
       " \"PALENQUE\"                    \n",
       " \"JALAPA\"                      \n",
       " \"LAZARO CARDENAS\"             \n",
       " \"PIEDRAS NEGRAS\"              \n",
       " \"PUNTA PEÑASCO\"               \n",
       " \"SALTILLO\"                    "
      ]
     },
     "execution_count": 356,
     "metadata": {},
     "output_type": "execute_result"
    }
   ],
   "source": [
    "push!(Nombres, \"JALAPA\", \"LAZARO CARDENAS\", \"PIEDRAS NEGRAS\", \"PUNTA PEÑASCO\", \"SALTILLO\")"
   ]
  },
  {
   "cell_type": "markdown",
   "metadata": {},
   "source": [
    "+ Notamos que mientras que en DataNac y DataInt, el Aeropuerto Internacional de la Ciudad de México es llamado por \"MEXICO\", en DataAeropuertos es llamado por \"CIUDAD DE MÉXICO/MEXICO CITY\";\n",
    "\n",
    "+ También notamos que en DataNac y DataInt, se encuentra \"SAN JOSÉ DEL CABO\", en DataAeropuertos se encuentra \"SAN JOSE DEL CABO\";\n",
    "\n",
    "+ \"TUXTLA GUTIERREZ (ANGEL ALBINO CORZO)\" se encuentra en las tablas de origen destino como \"TUXTLA GUTIERREZ\";\n",
    "\n",
    "+ Las Ciudades de Juárez/Obregón/Victoria/Del Carmen se encuentran como \"CD. ---\" y como \"CIUDAD ---\";\n",
    "\n",
    "+ \"QUERÉTARO\" se diferencia de \"QUERETARO\";\n",
    "\n",
    "+ \"ZIHUATANEJO\" se encuentra como \"IXTAPA ZIHUATANEJO\";\n",
    "\n",
    "+ Finalmente, \"BAJIO\" también se encuentra como \"DEL BAJIO\"."
   ]
  },
  {
   "cell_type": "code",
   "execution_count": 82,
   "metadata": {
    "collapsed": false
   },
   "outputs": [
    {
     "data": {
      "text/plain": [
       "\"CIUDAD DE MÉXICO/MEXICO CITY\""
      ]
     },
     "execution_count": 82,
     "metadata": {},
     "output_type": "execute_result"
    }
   ],
   "source": [
    "Nombres[1]"
   ]
  },
  {
   "cell_type": "code",
   "execution_count": 83,
   "metadata": {
    "collapsed": false
   },
   "outputs": [
    {
     "data": {
      "text/plain": [
       "\"MEXICO\""
      ]
     },
     "execution_count": 83,
     "metadata": {},
     "output_type": "execute_result"
    }
   ],
   "source": [
    "DataNac[3, 2]"
   ]
  },
  {
   "cell_type": "markdown",
   "metadata": {},
   "source": [
    "Vamos a cambiar todos los errores (pff....)."
   ]
  },
  {
   "cell_type": "code",
   "execution_count": 357,
   "metadata": {
    "collapsed": true
   },
   "outputs": [],
   "source": [
    "Nombres[1] = \"MEXICO\";"
   ]
  },
  {
   "cell_type": "code",
   "execution_count": 358,
   "metadata": {
    "collapsed": false
   },
   "outputs": [
    {
     "data": {
      "text/plain": [
       "\"SAN JOSÉ DEL CABO\""
      ]
     },
     "execution_count": 358,
     "metadata": {},
     "output_type": "execute_result"
    }
   ],
   "source": [
    "Nombres[6] = \"SAN JOSÉ DEL CABO\""
   ]
  },
  {
   "cell_type": "code",
   "execution_count": 359,
   "metadata": {
    "collapsed": false
   },
   "outputs": [
    {
     "data": {
      "text/plain": [
       "\"TUXTLA GUTIERREZ\""
      ]
     },
     "execution_count": 359,
     "metadata": {},
     "output_type": "execute_result"
    }
   ],
   "source": [
    "Nombres[14] = \"TUXTLA GUTIERREZ\""
   ]
  },
  {
   "cell_type": "code",
   "execution_count": 360,
   "metadata": {
    "collapsed": false
   },
   "outputs": [
    {
     "data": {
      "text/plain": [
       "\"CIUDAD JUAREZ\""
      ]
     },
     "execution_count": 360,
     "metadata": {},
     "output_type": "execute_result"
    }
   ],
   "source": [
    "Nombres[15] = \"CIUDAD JUAREZ\"\n"
   ]
  },
  {
   "cell_type": "code",
   "execution_count": 361,
   "metadata": {
    "collapsed": false
   },
   "outputs": [
    {
     "data": {
      "text/plain": [
       "\"CIUDAD DEL CARMEN\""
      ]
     },
     "execution_count": 361,
     "metadata": {},
     "output_type": "execute_result"
    }
   ],
   "source": [
    "Nombres[33] = \"CIUDAD DEL CARMEN\""
   ]
  },
  {
   "cell_type": "code",
   "execution_count": 362,
   "metadata": {
    "collapsed": false
   },
   "outputs": [
    {
     "data": {
      "text/plain": [
       "\"CIUDAD OBREGON\""
      ]
     },
     "execution_count": 362,
     "metadata": {},
     "output_type": "execute_result"
    }
   ],
   "source": [
    "Nombres[36] = \"CIUDAD OBREGON\""
   ]
  },
  {
   "cell_type": "code",
   "execution_count": 363,
   "metadata": {
    "collapsed": false
   },
   "outputs": [
    {
     "data": {
      "text/plain": [
       "\"CIUDAD VICTORIA\""
      ]
     },
     "execution_count": 363,
     "metadata": {},
     "output_type": "execute_result"
    }
   ],
   "source": [
    "Nombres[50] = \"CIUDAD VICTORIA\""
   ]
  },
  {
   "cell_type": "code",
   "execution_count": 364,
   "metadata": {
    "collapsed": false
   },
   "outputs": [
    {
     "data": {
      "text/plain": [
       "\"QUERETARO\""
      ]
     },
     "execution_count": 364,
     "metadata": {},
     "output_type": "execute_result"
    }
   ],
   "source": [
    "Nombres[18] = \"QUERETARO\""
   ]
  },
  {
   "cell_type": "code",
   "execution_count": 365,
   "metadata": {
    "collapsed": false
   },
   "outputs": [
    {
     "data": {
      "text/plain": [
       "\"IXTAPA ZIHUATANEJO\""
      ]
     },
     "execution_count": 365,
     "metadata": {},
     "output_type": "execute_result"
    }
   ],
   "source": [
    "Nombres[35] = \"IXTAPA ZIHUATANEJO\""
   ]
  },
  {
   "cell_type": "code",
   "execution_count": 366,
   "metadata": {
    "collapsed": false
   },
   "outputs": [
    {
     "data": {
      "text/plain": [
       "\"DEL BAJIO\""
      ]
     },
     "execution_count": 366,
     "metadata": {},
     "output_type": "execute_result"
    }
   ],
   "source": [
    "Nombres[9] = \"DEL BAJIO\""
   ]
  },
  {
   "cell_type": "markdown",
   "metadata": {},
   "source": [
    "Ahora sí... veamos qué aeropuertos nacionales están en los registros internacionales."
   ]
  },
  {
   "cell_type": "markdown",
   "metadata": {},
   "source": [
    "#### Como aeropuerto de salida"
   ]
  },
  {
   "cell_type": "code",
   "execution_count": 367,
   "metadata": {
    "collapsed": false
   },
   "outputs": [
    {
     "data": {
      "text/plain": [
       "166-element Array{String,1}:\n",
       " \"ABBOTSFORD\"            \n",
       " \"ACAPULCO\"              \n",
       " \"AGUASCALIENTES\"        \n",
       " \"AMSTERDAM\"             \n",
       " \"ATLANTA\"               \n",
       " \"AUSTIN\"                \n",
       " \"BAGOTVILLE\"            \n",
       " \"BALTIMORE\"             \n",
       " \"BELICE\"                \n",
       " \"BIRMINGHAM, INGLATERRA\"\n",
       " \"BOGOTA\"                \n",
       " \"BOSTON\"                \n",
       " \"BROWNSVILLE\"           \n",
       " ⋮                       \n",
       " \"VANCOUVER\"             \n",
       " \"VARADERO\"              \n",
       " \"VERACRUZ\"              \n",
       " \"VERONA\"                \n",
       " \"VICTORIA, COLUMBIA\"    \n",
       " \"VILLAHERMOSA\"          \n",
       " \"WASHINGTON\"            \n",
       " \"WINDSOR\"               \n",
       " \"WINDSOR LOCKS\"         \n",
       " \"WINNIPEG\"              \n",
       " \"ZACATECAS\"             \n",
       " \"ZARAGOZA, ES\"          "
      ]
     },
     "execution_count": 367,
     "metadata": {},
     "output_type": "execute_result"
    }
   ],
   "source": [
    "Aeropuertos_Int_Salida = Array{String}(0)\n",
    "origen_destino = 1\n",
    "\n",
    "for i = 2:length(DataInt[:, origen_destino])\n",
    "    if sort(DataInt[:, origen_destino])[i-1] != sort(DataInt[:, origen_destino])[i]\n",
    "        push!(Aeropuertos_Int_Salida, sort(DataInt[:, origen_destino])[i-1])\n",
    "    end\n",
    "end\n",
    "\n",
    "if Aeropuertos_Int_Salida[end] != sort(DataInt[:, origen_destino])[end]\n",
    "    push!(Aeropuertos_Int_Salida, sort(DataInt[:, origen_destino])[end])\n",
    "end"
   ]
  },
  {
   "cell_type": "code",
   "execution_count": 371,
   "metadata": {
    "collapsed": false
   },
   "outputs": [
    {
     "data": {
      "text/plain": [
       "37-element Array{String,1}:\n",
       " \"MEXICO\"            \n",
       " \"CANCUN\"            \n",
       " \"GUADALAJARA\"       \n",
       " \"MONTERREY\"         \n",
       " \"TIJUANA\"           \n",
       " \"SAN JOSÉ DEL CABO\" \n",
       " \"PUERTO VALLARTA\"   \n",
       " \"MERIDA\"            \n",
       " \"DEL BAJIO\"         \n",
       " \"CULIACAN\"          \n",
       " \"HERMOSILLO\"        \n",
       " \"CHIHUAHUA\"         \n",
       " \"VERACRUZ\"          \n",
       " ⋮                   \n",
       " \"MORELIA\"           \n",
       " \"ACAPULCO\"          \n",
       " \"DURANGO\"           \n",
       " \"CIUDAD DEL CARMEN\" \n",
       " \"ZACATECAS\"         \n",
       " \"IXTAPA ZIHUATANEJO\"\n",
       " \"COZUMEL\"           \n",
       " \"TAPACHULA\"         \n",
       " \"LOS MOCHIS\"        \n",
       " \"URUAPAN\"           \n",
       " \"MANZANILLO\"        \n",
       " \"LORETO\"            "
      ]
     },
     "execution_count": 371,
     "metadata": {},
     "output_type": "execute_result"
    }
   ],
   "source": [
    "Aeropuertos_NacEInt_Salidas = Array{String}(0)\n",
    "\n",
    "for aeropuerto in Nombres\n",
    "    if any(x->x==aeropuerto, Aeropuertos_Int_Salida)\n",
    "        push!(Aeropuertos_NacEInt_Salidas, aeropuerto)\n",
    "    end\n",
    "end\n",
    "\n",
    "Aeropuertos_NacEInt_Salidas"
   ]
  },
  {
   "cell_type": "markdown",
   "metadata": {},
   "source": [
    "#### Como aeropuerto destino"
   ]
  },
  {
   "cell_type": "code",
   "execution_count": 369,
   "metadata": {
    "collapsed": false
   },
   "outputs": [
    {
     "data": {
      "text/plain": [
       "176-element Array{String,1}:\n",
       " \"ABBOTSFORD\"            \n",
       " \"ACAPULCO\"              \n",
       " \"AGUASCALIENTES\"        \n",
       " \"AMSTERDAM\"             \n",
       " \"ATLANTA\"               \n",
       " \"AUSTIN\"                \n",
       " \"Antofagasta\"           \n",
       " \"BALTIMORE\"             \n",
       " \"BELICE\"                \n",
       " \"BIRMINGHAM, INGLATERRA\"\n",
       " \"BOGOTA\"                \n",
       " \"BOSTON\"                \n",
       " \"BROWNSVILLE\"           \n",
       " ⋮                       \n",
       " \"VANCOUVER\"             \n",
       " \"VARADERO\"              \n",
       " \"VERACRUZ\"              \n",
       " \"VERONA\"                \n",
       " \"VICTORIA, COLUMBIA\"    \n",
       " \"VILLAHERMOSA\"          \n",
       " \"WASHINGTON\"            \n",
       " \"WINDSOR\"               \n",
       " \"WINDSOR LOCKS\"         \n",
       " \"WINNIPEG\"              \n",
       " \"XIAMEN\"                \n",
       " \"ZACATECAS\"             "
      ]
     },
     "execution_count": 369,
     "metadata": {},
     "output_type": "execute_result"
    }
   ],
   "source": [
    "Aeropuertos_Int_Destino = Array{String}(0)\n",
    "origen_destino = 2\n",
    "\n",
    "for i = 2:length(DataInt[:, origen_destino])\n",
    "    if sort(DataInt[:, origen_destino])[i-1] != sort(DataInt[:, origen_destino])[i]\n",
    "        push!(Aeropuertos_Int_Destino, sort(DataInt[:, origen_destino])[i-1])\n",
    "    end\n",
    "end\n",
    "\n",
    "if Aeropuertos_Int_Destino[end] != sort(DataInt[:, origen_destino])[end]\n",
    "    push!(Aeropuertos_Int_Destino, sort(DataInt[:, origen_destino])[end])\n",
    "end"
   ]
  },
  {
   "cell_type": "code",
   "execution_count": 370,
   "metadata": {
    "collapsed": false
   },
   "outputs": [
    {
     "data": {
      "text/plain": [
       "38-element Array{String,1}:\n",
       " \"MEXICO\"            \n",
       " \"CANCUN\"            \n",
       " \"GUADALAJARA\"       \n",
       " \"MONTERREY\"         \n",
       " \"TIJUANA\"           \n",
       " \"SAN JOSÉ DEL CABO\" \n",
       " \"PUERTO VALLARTA\"   \n",
       " \"MERIDA\"            \n",
       " \"DEL BAJIO\"         \n",
       " \"CULIACAN\"          \n",
       " \"HERMOSILLO\"        \n",
       " \"CHIHUAHUA\"         \n",
       " \"VERACRUZ\"          \n",
       " ⋮                   \n",
       " \"ACAPULCO\"          \n",
       " \"DURANGO\"           \n",
       " \"CIUDAD DEL CARMEN\" \n",
       " \"ZACATECAS\"         \n",
       " \"IXTAPA ZIHUATANEJO\"\n",
       " \"CIUDAD OBREGON\"    \n",
       " \"COZUMEL\"           \n",
       " \"TAPACHULA\"         \n",
       " \"LOS MOCHIS\"        \n",
       " \"URUAPAN\"           \n",
       " \"MANZANILLO\"        \n",
       " \"LORETO\"            "
      ]
     },
     "execution_count": 370,
     "metadata": {},
     "output_type": "execute_result"
    }
   ],
   "source": [
    "Aeropuertos_NacEInt_Destino = Array{String}(0)\n",
    "\n",
    "for aeropuerto in Nombres\n",
    "    if any(x->x==aeropuerto, Aeropuertos_Int_Destino)\n",
    "        push!(Aeropuertos_NacEInt_Destino, aeropuerto)\n",
    "    end\n",
    "end\n",
    "\n",
    "Aeropuertos_NacEInt_Destino"
   ]
  },
  {
   "cell_type": "markdown",
   "metadata": {},
   "source": [
    "+ Sin embargo, encontramos que el aeropuerto de Ciudad Juárez salen vuelos internacionales, pero no regresan.\n",
    "\n",
    "+ De los aeropuertos de Mexicali y Ciudad Obregón, hay vuelos internacionales que llegan a esos aeropuertos, pero no regresan a sus destino."
   ]
  },
  {
   "cell_type": "markdown",
   "metadata": {},
   "source": [
    "#### En conclusión"
   ]
  },
  {
   "cell_type": "markdown",
   "metadata": {},
   "source": [
    "+ Hay 37 aeropuertos nacionales de donde salen vuelos internacionales;\n",
    "+ Hay 38 aeropuertos nacionales a donde llegan vuelos internacionales;\n",
    "+ Hay 39 aeropuertos nacionales de donde salen o llegan vuelos internacionales;\n",
    "+ Contando TODOS los aeropuertos con estadísticas de pasajeros, de los 63 aeropuertos que hay (59 con estadísticas de vuelos + 4 sin estadísticas de vuelo), 24 aeropuertos no registraron vuelos internacionales;\n",
    "+ Hay 129 aeropuertos internacionales que tienen vuelos hacia México;\n",
    "+ Hay 138 aeropuertos internacionales que reciben vuelos desde México."
   ]
  },
  {
   "cell_type": "markdown",
   "metadata": {},
   "source": [
    "Llama la atención la no simetría entre los aeropuertos internacionales que reciben vuelos de México pero desde donde no se vuela a México."
   ]
  },
  {
   "cell_type": "markdown",
   "metadata": {},
   "source": [
    "### 2-b"
   ]
  },
  {
   "cell_type": "markdown",
   "metadata": {},
   "source": [
    "A partir de las tablas de origen y destino, lo que se mide es la cantidad de vuelos de un lugar a otro, el número de pasajeros y los kilos de carga. Estas tres medidas son mensuales.\n",
    "\n",
    "En un primer momento se puede saber la cantidad promedio de pasajeros por vuelo. Esto nos puede dar una idea del tipo de avión que se ocupa para los vuelos entre una ciudad y otra. Esta información puede ser sensible para las aerolíneas que buscan expanderse hacia otras ciudades o que quieran informarse acerca de qué tipo de aeronave es conveniente para el mercado en México."
   ]
  },
  {
   "cell_type": "markdown",
   "metadata": {},
   "source": [
    "### 2-c"
   ]
  },
  {
   "cell_type": "markdown",
   "metadata": {},
   "source": [
    "### Flujos de entrada y de salida"
   ]
  },
  {
   "cell_type": "markdown",
   "metadata": {},
   "source": [
    "Aquí tendremos que hacer una pequeña especificación acerca del flujo. ¿Estamos hablando de flujo de aviones, o de personas?¿Flujo mensual, o anual?"
   ]
  },
  {
   "cell_type": "markdown",
   "metadata": {},
   "source": [
    "Si queremos saber la capacidad de vuelos de un aeropuerto, para saber si por ejemplo el número de pistas está llegando a su límite, entonces nos decantaríamos por flujo de aviones. Si por el otro lado, queremos si la capacidad de personas del aeropuerto está llegando a su límite, entonces vale más la pena usar un flujo de pasajeros."
   ]
  },
  {
   "cell_type": "markdown",
   "metadata": {},
   "source": [
    "En este caso me decantaré por un flujo anual. Esto debido a que encontramos una cantidad considerable de meses en los cuales hay cero vuelos entre dos ciudades.\n",
    "\n",
    "También utilizaré un flujo de personas, ya que me parece más relevante. Si hay un gran flujo de personas, entonces se pueden cambiar los aviones por algunos con más capacidad y modificar la infraestructura aeropuertaria esperando buenos resultados. Si hay una gran frecuencia de vuelos, esto no garantiza que el flujo de personas pueda aumentar, o que valga la pena cambiar los aviones por unos de mayor capacidad."
   ]
  },
  {
   "cell_type": "markdown",
   "metadata": {},
   "source": [
    "(además creo que ya me estoy extendiendo mucho)"
   ]
  },
  {
   "cell_type": "markdown",
   "metadata": {},
   "source": [
    "#### Sumar flujos de salida de pasajeros nacionales e internacionales"
   ]
  },
  {
   "cell_type": "code",
   "execution_count": 388,
   "metadata": {
    "collapsed": false
   },
   "outputs": [],
   "source": [
    "origen_destino = 1\n",
    "\n",
    "Flujo_Salida = Dict{String, Float64}() \n",
    "\n",
    "for aeropuerto in Nombres\n",
    "    for i = 1:length(DataNac[:, origen_destino])\n",
    "        if DataNac[i, origen_destino] == aeropuerto\n",
    "            if haskey(Flujo_Salida, aeropuerto)\n",
    "                Flujo_Salida[aeropuerto] += DataNac[i, 28]\n",
    "            else \n",
    "                Flujo_Salida[aeropuerto] = DataNac[i, 28]\n",
    "            end\n",
    "        end\n",
    "    end\n",
    "end"
   ]
  },
  {
   "cell_type": "code",
   "execution_count": 389,
   "metadata": {
    "collapsed": false
   },
   "outputs": [
    {
     "data": {
      "text/plain": [
       "1.3872101e7"
      ]
     },
     "execution_count": 389,
     "metadata": {},
     "output_type": "execute_result"
    }
   ],
   "source": [
    "Flujo_Salida[\"MEXICO\"]"
   ]
  },
  {
   "cell_type": "code",
   "execution_count": 390,
   "metadata": {
    "collapsed": false
   },
   "outputs": [],
   "source": [
    "origen_destino = 1\n",
    "\n",
    "for aeropuerto in Aeropuertos_NacEInt_Salidas\n",
    "    for i = 1:length(DataInt[:, origen_destino])\n",
    "        if DataInt[i, origen_destino] == aeropuerto\n",
    "            Flujo_Salida[aeropuerto] += DataInt[i, 28]\n",
    "        end\n",
    "    end\n",
    "end"
   ]
  },
  {
   "cell_type": "code",
   "execution_count": 391,
   "metadata": {
    "collapsed": false
   },
   "outputs": [
    {
     "data": {
      "text/plain": [
       "2.0769176e7"
      ]
     },
     "execution_count": 391,
     "metadata": {},
     "output_type": "execute_result"
    }
   ],
   "source": [
    "Flujo_Salida[\"MEXICO\"]"
   ]
  },
  {
   "cell_type": "markdown",
   "metadata": {},
   "source": [
    "#### Sumar flujos de entrada de pasajeros nacionales e internacionales"
   ]
  },
  {
   "cell_type": "code",
   "execution_count": 392,
   "metadata": {
    "collapsed": false
   },
   "outputs": [],
   "source": [
    "origen_destino = 2\n",
    "\n",
    "Flujo_Entrada = Dict{String, Float64}() \n",
    "\n",
    "for aeropuerto in Nombres\n",
    "    for i = 1:length(DataNac[:, origen_destino])\n",
    "        if DataNac[i, origen_destino] == aeropuerto\n",
    "            if haskey(Flujo_Entrada, aeropuerto)\n",
    "                Flujo_Entrada[aeropuerto] += DataNac[i, 28]\n",
    "            else \n",
    "                Flujo_Entrada[aeropuerto] = DataNac[i, 28]\n",
    "            end\n",
    "        end\n",
    "    end\n",
    "end"
   ]
  },
  {
   "cell_type": "code",
   "execution_count": 393,
   "metadata": {
    "collapsed": false
   },
   "outputs": [
    {
     "data": {
      "text/plain": [
       "1.3864686e7"
      ]
     },
     "execution_count": 393,
     "metadata": {},
     "output_type": "execute_result"
    }
   ],
   "source": [
    "Flujo_Entrada[\"MEXICO\"]"
   ]
  },
  {
   "cell_type": "code",
   "execution_count": 394,
   "metadata": {
    "collapsed": true
   },
   "outputs": [],
   "source": [
    "origen_destino = 2\n",
    "\n",
    "for aeropuerto in Aeropuertos_NacEInt_Salidas\n",
    "    for i = 1:length(DataInt[:, origen_destino])\n",
    "        if DataInt[i, origen_destino] == aeropuerto\n",
    "            Flujo_Entrada[aeropuerto] += DataInt[i, 28]\n",
    "        end\n",
    "    end\n",
    "end"
   ]
  },
  {
   "cell_type": "code",
   "execution_count": 395,
   "metadata": {
    "collapsed": false
   },
   "outputs": [
    {
     "data": {
      "text/plain": [
       "2.0874275e7"
      ]
     },
     "execution_count": 395,
     "metadata": {},
     "output_type": "execute_result"
    }
   ],
   "source": [
    "Flujo_Entrada[\"MEXICO\"]"
   ]
  },
  {
   "cell_type": "markdown",
   "metadata": {},
   "source": [
    "Ahora podemos saber los flujos totales (entrada + salida) y las diferencias de flujo (entrada - salida)"
   ]
  },
  {
   "cell_type": "code",
   "execution_count": 396,
   "metadata": {
    "collapsed": false
   },
   "outputs": [],
   "source": [
    "Flujo_Total = Dict{String, Float64}()\n",
    "Flujo_Dif = Dict{String, Float64}()\n",
    "\n",
    "for aeropuerto in Nombres\n",
    "    Flujo_Total[aeropuerto] = Flujo_Entrada[aeropuerto] + Flujo_Salida[aeropuerto]\n",
    "    Flujo_Dif[aeropuerto] = Flujo_Entrada[aeropuerto] - Flujo_Salida[aeropuerto]\n",
    "end"
   ]
  },
  {
   "cell_type": "markdown",
   "metadata": {},
   "source": [
    "+ Flujo_Total nos da el número neto de pasajeros que pisaron el aeropuerto.\n",
    "+ Flujo_Dif, si bien nos da una idea si salieron más o entraron más pasajeros, no nos da la perspectiva completa (¿qué son 50k pasajeros si hubo 50 millones?)"
   ]
  },
  {
   "cell_type": "markdown",
   "metadata": {},
   "source": [
    "Hagamos una representación proporcional con respecto al flujo total de pasajeros"
   ]
  },
  {
   "cell_type": "code",
   "execution_count": 401,
   "metadata": {
    "collapsed": false
   },
   "outputs": [],
   "source": [
    "Flujo_Prop = Dict{String, Float64}()\n",
    "\n",
    "for aeropuerto in Nombres\n",
    "    Flujo_Prop[aeropuerto] = 100*Flujo_Dif[aeropuerto]/Flujo_Total[aeropuerto]\n",
    "    end                                                    "
   ]
  },
  {
   "cell_type": "markdown",
   "metadata": {},
   "source": [
    "En porcentaje con respecto al numéro total de pasajeros que cruzaron el aeropuerto. Si el resultado es negativo, es porque salieron más pasajeros al aeropuerto de los que entraron."
   ]
  },
  {
   "cell_type": "code",
   "execution_count": 402,
   "metadata": {
    "collapsed": false
   },
   "outputs": [
    {
     "data": {
      "text/plain": [
       "Dict{String,Float64} with 59 entries:\n",
       "  \"CANCUN\"             => -0.313831\n",
       "  \"ACAPULCO\"           => -1.55873\n",
       "  \"PUERTO ESCONDIDO\"   => -2.43428\n",
       "  \"GUADALAJARA\"        => -0.261923\n",
       "  \"MEXICALI\"           => 2.63872\n",
       "  \"TIJUANA\"            => 1.47852\n",
       "  \"AGUASCALIENTES\"     => -0.525017\n",
       "  \"QUERETARO\"          => -0.463273\n",
       "  \"COLIMA\"             => 0.29219\n",
       "  \"SALTILLO\"           => 2.99704\n",
       "  \"PUNTA PEÑASCO\"      => -5.75831\n",
       "  \"MATAMOROS\"          => 5.14901\n",
       "  \"TAPACHULA\"          => -5.54774\n",
       "  \"PIEDRAS NEGRAS\"     => 4.42986\n",
       "  \"LAZARO CARDENAS\"    => -0.543751\n",
       "  \"POZA RICA\"          => -1.28732\n",
       "  \"NUEVO LAREDO\"       => 10.2785\n",
       "  \"TUXTLA GUTIERREZ\"   => 0.505303\n",
       "  \"IXTAPA ZIHUATANEJO\" => -0.293927\n",
       "  \"LOS MOCHIS\"         => -1.23194\n",
       "  \"ZACATECAS\"          => -0.938589\n",
       "  \"TORREON\"            => -0.385447\n",
       "  \"PALENQUE\"           => -6.65744\n",
       "  \"CULIACAN\"           => -0.681561\n",
       "  \"SAN JOSÉ DEL CABO\"  => 0.0642885\n",
       "  ⋮                    => ⋮"
      ]
     },
     "execution_count": 402,
     "metadata": {},
     "output_type": "execute_result"
    }
   ],
   "source": [
    "Flujo_Prop "
   ]
  },
  {
   "cell_type": "markdown",
   "metadata": {
    "collapsed": true
   },
   "source": [
    "#### Hagámoslo ordenadamente"
   ]
  },
  {
   "cell_type": "code",
   "execution_count": 430,
   "metadata": {
    "collapsed": false
   },
   "outputs": [
    {
     "data": {
      "text/plain": [
       "59-element Array{Pair{String,Float64},1}:\n",
       " \"MEXICO\"=>4.16435e7           \n",
       " \"CANCUN\"=>1.97593e7           \n",
       " \"GUADALAJARA\"=>1.12251e7      \n",
       " \"MONTERREY\"=>8.93421e6        \n",
       " \"TIJUANA\"=>6.33059e6          \n",
       " \"SAN JOSÉ DEL CABO\"=>4.05516e6\n",
       " \"PUERTO VALLARTA\"=>3.75098e6  \n",
       " \"MERIDA\"=>1.94027e6           \n",
       " \"DEL BAJIO\"=>1.69286e6        \n",
       " \"CULIACAN\"=>1.67395e6         \n",
       " \"HERMOSILLO\"=>1.53121e6       \n",
       " \"CHIHUAHUA\"=>1.32915e6        \n",
       " \"VERACRUZ\"=>1.31353e6         \n",
       " ⋮                             \n",
       " \"MATAMOROS\"=>75801.0          \n",
       " \"NUEVO LAREDO\"=>74729.0       \n",
       " \"LORETO\"=>74191.0             \n",
       " \"SALTILLO\"=>65598.0           \n",
       " \"CIUDAD VICTORIA\"=>50922.0    \n",
       " \"POZA RICA\"=>32393.0          \n",
       " \"LAZARO CARDENAS\"=>23908.0    \n",
       " \"CUERNAVACA\"=>22759.0         \n",
       " \"PIEDRAS NEGRAS\"=>20565.0     \n",
       " \"PALENQUE\"=>13008.0           \n",
       " \"JALAPA\"=>3708.0              \n",
       " \"PUNTA PEÑASCO\"=>2466.0       "
      ]
     },
     "execution_count": 430,
     "metadata": {},
     "output_type": "execute_result"
    }
   ],
   "source": [
    "Orden_P = sort(collect(Flujo_Total), by=x->x[2], rev=true)"
   ]
  },
  {
   "cell_type": "markdown",
   "metadata": {},
   "source": [
    "Claramente se ve que el aeropuerto que recibe más pasajeros es el AICM, mientras que el que menos recibe es Punta Peñasco."
   ]
  },
  {
   "cell_type": "markdown",
   "metadata": {},
   "source": [
    "#### Ahora en cuanto a cuales varían más su porcentaje de salidas contra entradas"
   ]
  },
  {
   "cell_type": "code",
   "execution_count": 416,
   "metadata": {
    "collapsed": false
   },
   "outputs": [
    {
     "data": {
      "text/plain": [
       "59-element Array{Pair{String,Float64},1}:\n",
       " \"NUEVO LAREDO\"=>10.2785      \n",
       " \"JALAPA\"=>5.87918            \n",
       " \"MATAMOROS\"=>5.14901         \n",
       " \"PIEDRAS NEGRAS\"=>4.42986    \n",
       " \"REYNOSA\"=>4.03098           \n",
       " \"SALTILLO\"=>2.99704          \n",
       " \"MEXICALI\"=>2.63872          \n",
       " \"CIUDAD JUAREZ\"=>2.13764     \n",
       " \"TIJUANA\"=>1.47852           \n",
       " \"MERIDA\"=>1.29637            \n",
       " \"CHETUMAL\"=>0.815599         \n",
       " \"HERMOSILLO\"=>0.793946       \n",
       " \"CIUDAD VICTORIA\"=>0.655905  \n",
       " ⋮                            \n",
       " \"LOS MOCHIS\"=>-1.23194       \n",
       " \"POZA RICA\"=>-1.28732        \n",
       " \"VILLAHERMOSA\"=>-1.48078     \n",
       " \"ACAPULCO\"=>-1.55873         \n",
       " \"MINATITLAN\"=>-1.9077        \n",
       " \"PUERTO ESCONDIDO\"=>-2.43428 \n",
       " \"URUAPAN\"=>-2.48349          \n",
       " \"CIUDAD DEL CARMEN\"=>-2.89314\n",
       " \"CUERNAVACA\"=>-3.12404       \n",
       " \"TAPACHULA\"=>-5.54774        \n",
       " \"PUNTA PEÑASCO\"=>-5.75831    \n",
       " \"PALENQUE\"=>-6.65744         "
      ]
     },
     "execution_count": 416,
     "metadata": {},
     "output_type": "execute_result"
    }
   ],
   "source": [
    "sort(collect(Flujo_Prop), by=x->x[2], rev=true)"
   ]
  },
  {
   "cell_type": "code",
   "execution_count": 421,
   "metadata": {
    "collapsed": false
   },
   "outputs": [
    {
     "data": {
      "text/plain": [
       "6-element Array{Pair{String,Float64},1}:\n",
       " \"DEL BAJIO\"=>0.0926834        \n",
       " \"SAN JOSÉ DEL CABO\"=>0.0642885\n",
       " \"PUERTO VALLARTA\"=>0.0424955  \n",
       " \"HUATULCO\"=>-0.0433149        \n",
       " \"DURANGO\"=>-0.0539084         \n",
       " \"MANZANILLO\"=>-0.0865279      "
      ]
     },
     "execution_count": 421,
     "metadata": {},
     "output_type": "execute_result"
    }
   ],
   "source": [
    "sort(collect(Flujo_Prop), by=x->x[2], rev=true)[25:30]"
   ]
  },
  {
   "cell_type": "markdown",
   "metadata": {},
   "source": [
    "+ Nuevo Laredo es el aeropuerto donde hay una variación más fuerte: Hay una variación de poco más del 10% de pasajeros que entran con respecto a los que salen.\n",
    "+ Palenque, por el otro lado, tiene una variación del 6.66% de pasajeros que salen conr especto a los que entren. \n",
    "+ Puerto Vallarta y Huatuclo son los que tienen una menor variación. Prácticamente entra el mismo número de pasajeros de los que salen."
   ]
  },
  {
   "cell_type": "markdown",
   "metadata": {},
   "source": [
    "#### El siguiente chorizo es para los siguiente rubros. Pueden irse hasta los resultados (puede que haya sido más fácil hacer una función, pero en fin)."
   ]
  },
  {
   "cell_type": "code",
   "execution_count": 424,
   "metadata": {
    "collapsed": true
   },
   "outputs": [],
   "source": [
    "#### Vuelos\n",
    "\n",
    "## Salidas\n",
    "origen_destino = 1\n",
    "\n",
    "Flujo_Salida_Vuelos = Dict{String, Float64}() \n",
    "\n",
    "for aeropuerto in Nombres\n",
    "    for i = 1:length(DataNac[:, origen_destino])\n",
    "        if DataNac[i, origen_destino] == aeropuerto\n",
    "            if haskey(Flujo_Salida_Vuelos, aeropuerto)\n",
    "                Flujo_Salida_Vuelos[aeropuerto] += DataNac[i, 15]\n",
    "            else \n",
    "                Flujo_Salida_Vuelos[aeropuerto] = DataNac[i, 15]\n",
    "            end\n",
    "        end\n",
    "    end\n",
    "end\n",
    "\n",
    "for aeropuerto in Aeropuertos_NacEInt_Salidas\n",
    "    for i = 1:length(DataInt[:, origen_destino])\n",
    "        if DataInt[i, origen_destino] == aeropuerto\n",
    "            Flujo_Salida_Vuelos[aeropuerto] += DataInt[i, 15]\n",
    "        end\n",
    "    end\n",
    "end\n",
    "\n",
    "## Entradas\n",
    "origen_destino = 2\n",
    "\n",
    "Flujo_Entrada_Vuelos = Dict{String, Float64}() \n",
    "\n",
    "for aeropuerto in Nombres\n",
    "    for i = 1:length(DataNac[:, origen_destino])\n",
    "        if DataNac[i, origen_destino] == aeropuerto\n",
    "            if haskey(Flujo_Entrada_Vuelos, aeropuerto)\n",
    "                Flujo_Entrada_Vuelos[aeropuerto] += DataNac[i, 15]\n",
    "            else \n",
    "                Flujo_Entrada_Vuelos[aeropuerto] = DataNac[i, 15]\n",
    "            end\n",
    "        end\n",
    "    end\n",
    "end\n",
    "\n",
    "for aeropuerto in Aeropuertos_NacEInt_Salidas\n",
    "    for i = 1:length(DataInt[:, origen_destino])\n",
    "        if DataInt[i, origen_destino] == aeropuerto\n",
    "            Flujo_Entrada_Vuelos[aeropuerto] += DataInt[i, 15]\n",
    "        end\n",
    "    end\n",
    "end\n"
   ]
  },
  {
   "cell_type": "code",
   "execution_count": 425,
   "metadata": {
    "collapsed": true
   },
   "outputs": [],
   "source": [
    "#### Carga\n",
    "\n",
    "## Salidas\n",
    "origen_destino = 1\n",
    "\n",
    "Flujo_Salida_Carga = Dict{String, Float64}() \n",
    "\n",
    "for aeropuerto in Nombres\n",
    "    for i = 1:length(DataNac[:, origen_destino])\n",
    "        if DataNac[i, origen_destino] == aeropuerto\n",
    "            if haskey(Flujo_Salida_Carga, aeropuerto)\n",
    "                Flujo_Salida_Carga[aeropuerto] += DataNac[i, end]\n",
    "            else \n",
    "                Flujo_Salida_Carga[aeropuerto] = DataNac[i, end]\n",
    "            end\n",
    "        end\n",
    "    end\n",
    "end\n",
    "\n",
    "for aeropuerto in Aeropuertos_NacEInt_Salidas\n",
    "    for i = 1:length(DataInt[:, origen_destino])\n",
    "        if DataInt[i, origen_destino] == aeropuerto\n",
    "            Flujo_Salida_Carga[aeropuerto] += DataInt[i, end]\n",
    "        end\n",
    "    end\n",
    "end\n",
    "\n",
    "## Entradas\n",
    "origen_destino = 2\n",
    "\n",
    "Flujo_Entrada_Carga = Dict{String, Float64}() \n",
    "\n",
    "for aeropuerto in Nombres\n",
    "    for i = 1:length(DataNac[:, origen_destino])\n",
    "        if DataNac[i, origen_destino] == aeropuerto\n",
    "            if haskey(Flujo_Entrada_Carga, aeropuerto)\n",
    "                Flujo_Entrada_Carga[aeropuerto] += DataNac[i, end]\n",
    "            else \n",
    "                Flujo_Entrada_Carga[aeropuerto] = DataNac[i, end]\n",
    "            end\n",
    "        end\n",
    "    end\n",
    "end\n",
    "\n",
    "for aeropuerto in Aeropuertos_NacEInt_Salidas\n",
    "    for i = 1:length(DataInt[:, origen_destino])\n",
    "        if DataInt[i, origen_destino] == aeropuerto\n",
    "            Flujo_Entrada_Carga[aeropuerto] += DataInt[i, end]\n",
    "        end\n",
    "    end\n",
    "end"
   ]
  },
  {
   "cell_type": "code",
   "execution_count": 426,
   "metadata": {
    "collapsed": true
   },
   "outputs": [],
   "source": [
    "Flujo_Total_Vuelos = Dict{String, Float64}()\n",
    "Flujo_Prop_Vuelos = Dict{String, Float64}()\n",
    "\n",
    "for aeropuerto in Nombres\n",
    "    Flujo_Total_Vuelos[aeropuerto] = Flujo_Entrada_Vuelos[aeropuerto]+\n",
    "                                                            Flujo_Salida_Vuelos[aeropuerto]\n",
    "    Flujo_Prop_Vuelos[aeropuerto] = 100*(Flujo_Entrada_Vuelos[aeropuerto]-\n",
    "                                                            Flujo_Salida_Vuelos[aeropuerto])/\n",
    "                                                                Flujo_Total_Vuelos[aeropuerto]\n",
    "end\n",
    "\n",
    "Flujo_Total_Carga = Dict{String, Float64}()\n",
    "Flujo_Prop_Carga = Dict{String, Float64}()\n",
    "\n",
    "for aeropuerto in Nombres\n",
    "    Flujo_Total_Carga[aeropuerto] = Flujo_Entrada_Carga[aeropuerto]+\n",
    "                                                                Flujo_Salida_Carga[aeropuerto]\n",
    "    Flujo_Prop_Carga[aeropuerto] = 100*(Flujo_Entrada_Carga[aeropuerto]-\n",
    "                                                            Flujo_Salida_Carga[aeropuerto])/\n",
    "                                                                Flujo_Total_Carga[aeropuerto]\n",
    "end"
   ]
  },
  {
   "cell_type": "markdown",
   "metadata": {},
   "source": [
    "#### Resultados"
   ]
  },
  {
   "cell_type": "code",
   "execution_count": 431,
   "metadata": {
    "collapsed": false
   },
   "outputs": [
    {
     "data": {
      "text/plain": [
       "59-element Array{Pair{String,Float64},1}:\n",
       " \"MEXICO\"=>407305.0          \n",
       " \"CANCUN\"=>141393.0          \n",
       " \"GUADALAJARA\"=>106390.0     \n",
       " \"MONTERREY\"=>102520.0       \n",
       " \"TIJUANA\"=>50416.0          \n",
       " \"SAN JOSÉ DEL CABO\"=>33502.0\n",
       " \"PUERTO VALLARTA\"=>32746.0  \n",
       " \"DEL BAJIO\"=>23232.0        \n",
       " \"HERMOSILLO\"=>21424.0       \n",
       " \"MERIDA\"=>20426.0           \n",
       " \"CHIHUAHUA\"=>18674.0        \n",
       " \"CULIACAN\"=>16862.0         \n",
       " \"VERACRUZ\"=>16577.0         \n",
       " ⋮                           \n",
       " \"MATAMOROS\"=>1916.0         \n",
       " \"CHETUMAL\"=>1633.0          \n",
       " \"NUEVO LAREDO\"=>1315.0      \n",
       " \"SALTILLO\"=>1207.0          \n",
       " \"LAZARO CARDENAS\"=>1194.0   \n",
       " \"LORETO\"=>1092.0            \n",
       " \"URUAPAN\"=>972.0            \n",
       " \"CUERNAVACA\"=>737.0         \n",
       " \"PIEDRAS NEGRAS\"=>724.0     \n",
       " \"JALAPA\"=>365.0             \n",
       " \"PALENQUE\"=>214.0           \n",
       " \"PUNTA PEÑASCO\"=>141.0      "
      ]
     },
     "execution_count": 431,
     "metadata": {},
     "output_type": "execute_result"
    }
   ],
   "source": [
    "Orden_V = sort(collect(Flujo_Total_Vuelos), by=x->x[2], rev=true)"
   ]
  },
  {
   "cell_type": "markdown",
   "metadata": {},
   "source": [
    "En cuanto a número de vuelos, el orden de los aeropuertos que tienen mayor y menor flujo son consistentes con el orden con respecto al flujo de pasajeros."
   ]
  },
  {
   "cell_type": "code",
   "execution_count": 432,
   "metadata": {
    "collapsed": false
   },
   "outputs": [
    {
     "data": {
      "text/plain": [
       "59-element Array{Pair{String,Float64},1}:\n",
       " \"MEXICO\"=>4.65475e8         \n",
       " \"GUADALAJARA\"=>1.66757e8    \n",
       " \"MONTERREY\"=>3.53908e7      \n",
       " \"TOLUCA\"=>2.05992e7         \n",
       " \"TIJUANA\"=>2.04368e7        \n",
       " \"SAN LUIS POTOSI\"=>1.93752e7\n",
       " \"CANCUN\"=>1.91994e7         \n",
       " \"MERIDA\"=>1.53179e7         \n",
       " \"HERMOSILLO\"=>8.57947e6     \n",
       " \"CULIACAN\"=>4.51275e6       \n",
       " \"CHIHUAHUA\"=>3.91057e6      \n",
       " \"ACAPULCO\"=>3.19109e6       \n",
       " \"OAXACA\"=>3.09553e6         \n",
       " ⋮                           \n",
       " \"COZUMEL\"=>91631.8          \n",
       " \"LAZARO CARDENAS\"=>82003.0  \n",
       " \"MANZANILLO\"=>78048.8       \n",
       " \"SALTILLO\"=>37414.5         \n",
       " \"PUERTO ESCONDIDO\"=>37265.0 \n",
       " \"PIEDRAS NEGRAS\"=>30052.0   \n",
       " \"JALAPA\"=>17348.0           \n",
       " \"URUAPAN\"=>2863.5           \n",
       " \"LORETO\"=>1797.0            \n",
       " \"PUNTA PEÑASCO\"=>0.0        \n",
       " \"PALENQUE\"=>0.0             \n",
       " \"CUERNAVACA\"=>0.0           "
      ]
     },
     "execution_count": 432,
     "metadata": {},
     "output_type": "execute_result"
    }
   ],
   "source": [
    "Orden_C = sort(collect(Flujo_Total_Carga), by=x->x[2], rev=true)"
   ]
  },
  {
   "cell_type": "markdown",
   "metadata": {},
   "source": [
    "### Pregunta 3"
   ]
  },
  {
   "cell_type": "markdown",
   "metadata": {},
   "source": [
    "+ Con respecto a Carga, encontramos que Cancún desciende un número de posiciones. Esto es congruente ya que Cancún se caracteriza por viajes de turismo y no por centro de distribución (al menos de cosas legales).\n",
    "+ Con respecto a número de pasajeros, Querétaro desciende un gran número de posiciones. Esto significa que hay muchos vuelos pequeños que van a Querétaro."
   ]
  },
  {
   "cell_type": "markdown",
   "metadata": {},
   "source": [
    "#### 3-b"
   ]
  },
  {
   "cell_type": "markdown",
   "metadata": {},
   "source": [
    "Me llama la atención la palabra \"operación\". Operación se refiere a, ¿un pasajero abordando?, ¿un kilo declarado?, ¿un avión tomando pista?\n",
    "\n",
    "Si se toman esas definiciones como operaciones, entonces se pueden clasificar por los ordenes de magnitud. Por ejemplo, aeropuertos grandes son aquellos que tienen mas de un millón de pasajeros al año y aeropuertos pequeños aquellos que tienen menos de cincuenta mil.\n",
    "\n",
    "Sin embargo estas clasificaciones no me encantan porque son a todas luces arbitrarias. Yo personalmente propondría una clasificación con respecto a la DENSIDAD. \n",
    "\n",
    "por ejemplo: densidad de un vuelo con respecto a sus pasajeros o a sus cargas, i.e. pasajeros/vuelo y kg/vuelo. Los datos ya están listos para hacer eso."
   ]
  },
  {
   "cell_type": "code",
   "execution_count": 455,
   "metadata": {
    "collapsed": false
   },
   "outputs": [],
   "source": [
    "Densidad_Pasajeros = Dict{String, Float64}()\n",
    "Densidad_Carga = Dict{String, Float64}()\n",
    "\n",
    "for aeropuerto in Nombres\n",
    "    Densidad_Pasajeros[aeropuerto] = Flujo_Total[aeropuerto]/Flujo_Total_Vuelos[aeropuerto]\n",
    "    Densidad_Carga[aeropuerto] = Flujo_Total_Carga[aeropuerto]/Flujo_Total_Vuelos[aeropuerto]\n",
    "end"
   ]
  },
  {
   "cell_type": "code",
   "execution_count": 456,
   "metadata": {
    "collapsed": false
   },
   "outputs": [
    {
     "data": {
      "text/plain": [
       "59-element Array{Pair{String,Float64},1}:\n",
       " \"CANCUN\"=>139.748           \n",
       " \"CHETUMAL\"=>125.688         \n",
       " \"TIJUANA\"=>125.567          \n",
       " \"URUAPAN\"=>121.668          \n",
       " \"SAN JOSÉ DEL CABO\"=>121.042\n",
       " \"MEXICALI\"=>118.303         \n",
       " \"PUERTO VALLARTA\"=>114.548  \n",
       " \"COZUMEL\"=>106.891          \n",
       " \"GUADALAJARA\"=>105.509      \n",
       " \"MEXICO\"=>102.241           \n",
       " \"TAPACHULA\"=>100.02         \n",
       " \"CULIACAN\"=>99.2736         \n",
       " \"TUXTLA GUTIERREZ\"=>99.2014 \n",
       " ⋮                           \n",
       " \"LOS MOCHIS\"=>49.4205       \n",
       " \"TEPIC\"=>42.1259            \n",
       " \"COLIMA\"=>40.2639           \n",
       " \"MATAMOROS\"=>39.5621        \n",
       " \"SAN LUIS POTOSI\"=>37.738   \n",
       " \"CUERNAVACA\"=>30.8806       \n",
       " \"PIEDRAS NEGRAS\"=>28.4047   \n",
       " \"CIUDAD VICTORIA\"=>21.7895  \n",
       " \"LAZARO CARDENAS\"=>20.0235  \n",
       " \"PUNTA PEÑASCO\"=>17.4894    \n",
       " \"POZA RICA\"=>13.5479        \n",
       " \"JALAPA\"=>10.1589           "
      ]
     },
     "execution_count": 456,
     "metadata": {},
     "output_type": "execute_result"
    }
   ],
   "source": [
    "Orden_DP = sort(collect(Densidad_Pasajeros), by=x->x[2], rev=true)"
   ]
  },
  {
   "cell_type": "code",
   "execution_count": 458,
   "metadata": {
    "collapsed": false
   },
   "outputs": [
    {
     "data": {
      "text/plain": [
       "59-element Array{Pair{String,Float64},1}:\n",
       " \"TOLUCA\"=>1806.0           \n",
       " \"GUADALAJARA\"=>1567.41     \n",
       " \"SAN LUIS POTOSI\"=>1538.2  \n",
       " \"MEXICO\"=>1142.82          \n",
       " \"MERIDA\"=>749.92           \n",
       " \"MEXICALI\"=>444.477        \n",
       " \"TIJUANA\"=>405.364         \n",
       " \"HERMOSILLO\"=>400.461      \n",
       " \"MONTERREY\"=>345.209       \n",
       " \"OAXACA\"=>320.017          \n",
       " \"ACAPULCO\"=>310.78         \n",
       " \"CULIACAN\"=>267.628        \n",
       " \"TAPACHULA\"=>260.945       \n",
       " ⋮                          \n",
       " \"SALTILLO\"=>30.9979        \n",
       " \"MANZANILLO\"=>22.2045      \n",
       " \"ZACATECAS\"=>22.1781       \n",
       " \"COZUMEL\"=>21.7653         \n",
       " \"MORELIA\"=>18.4424         \n",
       " \"PUERTO ESCONDIDO\"=>14.4214\n",
       " \"QUERETARO\"=>11.3442       \n",
       " \"URUAPAN\"=>2.94599         \n",
       " \"LORETO\"=>1.6456           \n",
       " \"PUNTA PEÑASCO\"=>0.0       \n",
       " \"PALENQUE\"=>0.0            \n",
       " \"CUERNAVACA\"=>0.0          "
      ]
     },
     "execution_count": 458,
     "metadata": {},
     "output_type": "execute_result"
    }
   ],
   "source": [
    "Orden_DP = sort(collect(Densidad_Carga), by=x->x[2], rev=true)"
   ]
  },
  {
   "cell_type": "markdown",
   "metadata": {},
   "source": [
    "##  Estos resultados sí están interesantes. Vemos cómo para pasajeros, Cancún desplaza al AICM, puesto que los aviones vuelan, en promedio, con un mayor número de personas. Con respecto a la carga, tampoco el AICM se encuentra en la primera posición y es desplazado por Toluca. "
   ]
  },
  {
   "cell_type": "markdown",
   "metadata": {},
   "source": [
    "Esto nos permite clasificar los aeropuertos por sus densidades. Yo propondría cuatro categorías:\n",
    "+ Turístico/Negocios. Muchos pasajeros, poca carga, como Cancún.\n",
    "+ Centro de distribución. Pocos pasajeros, mucha carga, como Toluca.\n",
    "+ Mixto. Muchos pasajeros y carga, como el AICM o Guadalajara.\n",
    "+ Privado/local. Pocos pasajeros o poca carga, como Cuernavaca."
   ]
  },
  {
   "cell_type": "markdown",
   "metadata": {},
   "source": [
    "Con la densidad también podemos saber más fácilmente los periodos de operación, al igual que la diferencia entre operaciones nacionales e internacionales. Esto ya no me dio tiempo, pero dejo una lista de lo que hubiera hecho:\n",
    "\n",
    "Hacer un análisis de tres series de tiempo para cada aeropuerto:\n",
    "+ Número  mensual de vuelos nacionales e internacionales;\n",
    "+ Densidad mensual de carga nacional e internacional;\n",
    "+ Densidad mensual de pasajeros nacional e internacional."
   ]
  },
  {
   "cell_type": "markdown",
   "metadata": {},
   "source": [
    "Haciendo un skimming rápido de las tablas de Excel, una primera hipótesis sería que:\n",
    "\n",
    "+ Los aeropuertos de turismo (Cancún, San José del Cabo, Puerto Vallarta) tienen un flujo muy pequeño de carga y muy grande de pasajeros. El flujo de pasajeros no es homogéneo y encuentra máximos en meses asociados a vacaciones, tales como verano, navidad y semana santa.\n",
    "\n",
    "+ Los aeropuertos pequeños (Jalapa, Cuernavaca) tienen también poco flujo de carga y el flujo de pasajeros es bastante irregular, y no tiene una lógica clara.\n",
    "\n",
    "+ Los aeropuertos de carga y mixtos (AICM, Guadalajara, Monterrey, Toluca) tienen una flujo constante a lo largo del año, tanto para pasajeros y de carga. Probablemente los mixtos tengan picos (aunque menos marcados que para aeropuertos de turismo) en temporadas altas de turismo debido al transborde de pasajeros. También no se me haría una locura que los aeropuertos de carga tengan picos semestrales, habiendo un descenso en la actividad durante los meses primavera-verano y un aumento de actividad durante otoño-invierno, en especial la internacional."
   ]
  },
  {
   "cell_type": "code",
   "execution_count": null,
   "metadata": {
    "collapsed": true
   },
   "outputs": [],
   "source": []
  }
 ],
 "metadata": {
  "anaconda-cloud": {},
  "kernelspec": {
   "display_name": "Julia 0.5.0",
   "language": "julia",
   "name": "julia-0.5"
  },
  "language_info": {
   "file_extension": ".jl",
   "mimetype": "application/julia",
   "name": "julia",
   "version": "0.5.0"
  }
 },
 "nbformat": 4,
 "nbformat_minor": 1
}
