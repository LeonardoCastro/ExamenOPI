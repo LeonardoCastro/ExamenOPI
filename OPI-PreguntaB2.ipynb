{
 "cells": [
  {
   "cell_type": "markdown",
   "metadata": {},
   "source": [
    "## 2"
   ]
  },
  {
   "cell_type": "markdown",
   "metadata": {},
   "source": [
    "#### Haciendo unos cálculos rápidos en Excel:"
   ]
  },
  {
   "cell_type": "markdown",
   "metadata": {},
   "source": [
    "Los resultados obtenidos según el conteo rápido (por porcentaje de votos):\n",
    "+ Alfredo del Mazo Maza: 32.8086141275723%;\n",
    "+ Delfina Gómez Álvarez: 31.2543796573219%;\n",
    "+ Juan Manuel Zepeda Hernández: 18.1094536477679%;\n",
    "+ Josefina Vázquez Mota: 11.3211565501353%;\n",
    "+ Teresa Castell de Oro Palacios: 2.21513334768411%;\n",
    "+ Óscar González Yáñez: 1.07987268059136%."
   ]
  },
  {
   "cell_type": "markdown",
   "metadata": {},
   "source": [
    "Los resultados obtenidos según el recuento oficial es (por porcentaje de votos):\n",
    "+ Alfredo del Mazo Maza: 33.6925178052913%;\n",
    "+ Delfina Gómez Álvarez: 30.91278857369%;\n",
    "+ Juan Manuel Zepeda Hernández: 17.8913508368187%;\n",
    "+ Josefina Vázquez Mota: 11.2752945836287%;\n",
    "+ Teresa Castell de Oro Palacios: 2.14832997314094%;\n",
    "+ Óscar González Yáñez: 1.07987268059136%."
   ]
  },
  {
   "cell_type": "markdown",
   "metadata": {},
   "source": [
    "Cualquier medición estadística está relacionada a un valor esperado y a una desviación estándar. Si bien los porcentajes del recuento definitivo tendrían que tener una $\\sigma^2=0$, los valores asociados al conteo rápido tendrían que tener una $\\sigma^2>0$.\n",
    "\n",
    "En este sentido, el hecho que los valores entre los dos conteos no coincidan tiene todo el sentido del mundo. Esto debido a que el conteo rápido está hecho sobre una muestra representativa, cuyos valores esperados y desviaciones no es igual a aquellos del conjunto completo.\n",
    "\n",
    "La prueba está que en el conteo final se tomaron en cuenta 6 079 513 votos, mientras que en el conteo rápido 436 678 votos, un 7.2% de los votos aprox."
   ]
  },
  {
   "cell_type": "markdown",
   "metadata": {},
   "source": [
    "La pregunta ahora es que tan representativa fue esta muestra. La diferencia entre los dos porcentajes está dado por (en orden tal como arriba, en valor absoluto):"
   ]
  },
  {
   "cell_type": "code",
   "execution_count": 2,
   "metadata": {
    "collapsed": false
   },
   "outputs": [
    {
     "data": {
      "text/plain": [
       "6-element Array{Float64,1}:\n",
       " 0.883904 \n",
       " 0.341591 \n",
       " 0.218103 \n",
       " 0.045862 \n",
       " 0.0668034\n",
       " 0.0      "
      ]
     },
     "execution_count": 2,
     "metadata": {},
     "output_type": "execute_result"
    }
   ],
   "source": [
    "abs([33.6925178052913-32.8086141275723, \n",
    "    30.91278857369-31.2543796573219, \n",
    "    17.8913508368187-18.1094536477679,\n",
    "    11.2752945836287-11.3211565501353,\n",
    "    2.14832997314094-2.21513334768411,\n",
    "    1.07987268059136-1.07987268059136])"
   ]
  },
  {
   "cell_type": "markdown",
   "metadata": {},
   "source": [
    "Llama la atención que el porcentaje de votos del candidato Óscar González Yáñez se mantuvo constante."
   ]
  },
  {
   "cell_type": "markdown",
   "metadata": {},
   "source": [
    "### 3"
   ]
  },
  {
   "cell_type": "markdown",
   "metadata": {},
   "source": [
    "Para analizar el patrón en el cual llegaron los datos, vamos a importarlos."
   ]
  },
  {
   "cell_type": "code",
   "execution_count": 1,
   "metadata": {
    "collapsed": false
   },
   "outputs": [
    {
     "name": "stderr",
     "output_type": "stream",
     "text": [
      "\u001b[1m\u001b[34mINFO: Precompiling module FixedPointNumbers.\n",
      "\u001b[0m\u001b[1m\u001b[34mINFO: Recompiling stale cache file /Users/Leo/.julia/lib/v0.5/PyPlot.ji for module PyPlot.\n",
      "\u001b[0mWARNING: Method definition describe(AbstractArray) in module StatsBase at /Users/Leo/.julia/v0.5/StatsBase/src/scalarstats.jl:560 overwritten in module DataFrames at /Users/Leo/.julia/v0.5/DataFrames/src/abstractdataframe/abstractdataframe.jl:407.\n"
     ]
    }
   ],
   "source": [
    "using PyPlot\n",
    "using ExcelReaders"
   ]
  },
  {
   "cell_type": "code",
   "execution_count": 2,
   "metadata": {
    "collapsed": false
   },
   "outputs": [
    {
     "data": {
      "text/plain": [
       "ExcelFile <3b_remesa_estimacion_2110hrs_4jun2017.xlsx>"
      ]
     },
     "execution_count": 2,
     "metadata": {},
     "output_type": "execute_result"
    }
   ],
   "source": [
    "f = openxl(\"3b_remesa_estimacion_2110hrs_4jun2017.xlsx\")"
   ]
  },
  {
   "cell_type": "code",
   "execution_count": 4,
   "metadata": {
    "collapsed": false
   },
   "outputs": [],
   "source": [
    "Data = readxl(f, \"Hoja 1!A6:AM1352\");"
   ]
  },
  {
   "cell_type": "markdown",
   "metadata": {},
   "source": [
    "Vamos a calcular las sumas acumuladas de votos con respecto al tiempo para cada candidato"
   ]
  },
  {
   "cell_type": "code",
   "execution_count": 60,
   "metadata": {
    "collapsed": false
   },
   "outputs": [],
   "source": [
    "CumSum = zeros(length(Data[2:end, 1]), 6); # N mediciones, 6 candidatos\n",
    "\n",
    "# Alfredo del Mazo\n",
    "# 15 diferentes combinaciones de voto\n",
    "# Columnas 12, 15, 16, 18:29\n",
    "\n",
    "CombinacionesPRI = [12, 15, 16, 18, 19, 20, 21, 22, 23, 24, 25, 26, 27, 28, 29]\n",
    "\n",
    "for col in CombinacionesPRI\n",
    "    CumSum[1, 1] += Data[2, col]\n",
    "end\n",
    "\n",
    "for i = 3:length(Data[2:end, 1])+1\n",
    "    CumSum[i-1, 1] += CumSum[i-2, 1]\n",
    "    for col in CombinacionesPRI\n",
    "        CumSum[i-1, 1] += Data[i, col]\n",
    "    end\n",
    "end\n",
    "\n",
    "# Delfina\n",
    "# 1 combinación, columna 17\n",
    "\n",
    "CumSumEdoMex!(2, 17, CumSum, Data)\n",
    "\n",
    "# Juan Zepeda\n",
    "# 1 combinación, columna 13\n",
    "\n",
    "CumSumEdoMex!(3, 13, CumSum, Data)\n",
    "\n",
    "# Vázquez Sound\n",
    "# 1 combinación, columna 11\n",
    "\n",
    "CumSumEdoMex!(4, 11, CumSum, Data)\n",
    "\n",
    "# Teresa Castell\n",
    "\n",
    "CumSumEdoMex!(5, 30, CumSum, Data)\n",
    "\n",
    "# Óscar González\n",
    "\n",
    "CumSumEdoMex!(6, 14, CumSum, Data)"
   ]
  },
  {
   "cell_type": "code",
   "execution_count": 59,
   "metadata": {
    "collapsed": false
   },
   "outputs": [
    {
     "data": {
      "text/plain": [
       "CumSumEdoMex! (generic function with 1 method)"
      ]
     },
     "execution_count": 59,
     "metadata": {},
     "output_type": "execute_result"
    }
   ],
   "source": [
    "function CumSumEdoMex!(candidato, columna, CumSum, Data)\n",
    "    CumSum[1, candidato] = Data[2, columna]\n",
    "    for i = 3:length(Data[2:end, 1])+1\n",
    "        CumSum[i-1, candidato] += Data[i, columna] + CumSum[i-2, candidato]\n",
    "    end\n",
    "end "
   ]
  },
  {
   "cell_type": "markdown",
   "metadata": {},
   "source": [
    "#### Ahora vamos a calcular los porcentajes según fueron avanzando por hora"
   ]
  },
  {
   "cell_type": "code",
   "execution_count": 107,
   "metadata": {
    "collapsed": false
   },
   "outputs": [],
   "source": [
    "Porcentajes = zeros(size(CumSum)[1], 6)\n",
    "\n",
    "for i = 1:size(CumSum)[1]\n",
    "    Total_Votos = sum(CumSum[i, :])\n",
    "    for candidato = 1:6\n",
    "        Porcentajes[i, candidato] = 100*CumSum[i, candidato]/Total_Votos\n",
    "    end\n",
    "end"
   ]
  },
  {
   "cell_type": "code",
   "execution_count": 90,
   "metadata": {
    "collapsed": false
   },
   "outputs": [],
   "source": [
    "HoraCaptura = Array{DateTime}(1)\n",
    "\n",
    "for i = 2:length(Data[2:end, 1])\n",
    "    push!(HoraCaptura, DateTime(Data[i, end-3], \"HH:MM:SS.sss\"))\n",
    "end"
   ]
  },
  {
   "cell_type": "markdown",
   "metadata": {},
   "source": [
    "#### Vamos a hacer un pequeño plot para saber cómo se desarrolló"
   ]
  },
  {
   "cell_type": "code",
   "execution_count": 118,
   "metadata": {
    "collapsed": false
   },
   "outputs": [
    {
     "data": {
      "image/png": "[encoded data removed]",
      "text/plain": [
       "PyPlot.Figure(PyObject <matplotlib.figure.Figure object at 0x32a8d21d0>)"
      ]
     },
     "metadata": {},
     "output_type": "display_data"
    },
    {
     "data": {
      "text/plain": [
       "PyObject <matplotlib.text.Text object at 0x3256b5bd0>"
      ]
     },
     "execution_count": 118,
     "metadata": {},
     "output_type": "execute_result"
    }
   ],
   "source": [
    "plot(HoraCaptura[2:end], Porcentajes[2:end, 1], \"g^\")\n",
    "plot(HoraCaptura[2:end], Porcentajes[2:end, 2], \"ko\")\n",
    "plot(HoraCaptura[2:end], Porcentajes[2:end, 3], \"yd\")\n",
    "plot(HoraCaptura[2:end], Porcentajes[2:end, 4], \"b+\")\n",
    "plot(HoraCaptura[2:end], Porcentajes[2:end, 5], \"ro\")\n",
    "plot(HoraCaptura[2:end], Porcentajes[2:end, 6], \"mo\")\n",
    "grid()\n",
    "xlabel(\"Hora\")\n",
    "ylabel(\"Porcentaje de votos\")"
   ]
  },
  {
   "cell_type": "markdown",
   "metadata": {},
   "source": [
    "#### (me siento como en el NYTimes)"
   ]
  },
  {
   "cell_type": "markdown",
   "metadata": {},
   "source": [
    "#### Hay algo curioso con la primera hora de recabación de datos. Los primeros datos dan un promedio por encime del 40% de intención de voto hacia Alfredo del Mazo. Esto hace enseguida que los siguientes tres candidatos tengan resultados con un promedio bajo."
   ]
  },
  {
   "cell_type": "markdown",
   "metadata": {},
   "source": [
    "+ Al rededor de las 19 horas hay un aumento abrupto en el porcentaje de votos del Alfredo del Mazo. Curiosamente, este pico parece afectar tanto a Delfina como a Juan Zepeda y NO a Josefina. Esto último se puede deber a distintos factores: el bajo número de votos hacia Josefina, llegaron votos en el cual el espectro político se encuentra dividido entre el PRI, MORENA y el PRD, etc. En dado caso, es curioso que este pico llegue al inicio del conteo, una vez que los porcentajes ya están tendiendo al equilibrio. \n",
    "\n",
    "+ Una observación más: Parece que Juan Zepeda estaba peleando votos con los tres candidatos, mientras que Josefina solo con Juan Zepeda. Es notoria la simetria entre las curvas de voto entre Josefina y Juan Zepeda. Por otro lado, un aumento de este último significaba también un descenso de Delfina y Alfredo del Mazo "
   ]
  },
  {
   "cell_type": "markdown",
   "metadata": {},
   "source": [
    "### 4"
   ]
  },
  {
   "cell_type": "markdown",
   "metadata": {},
   "source": [
    "Para saber si el instituto tomó una buena decisión, vamos a calcular qué tanto variaba el porcentaje de votos con respecto a un cierto intervalo de tiempo (10 min)."
   ]
  },
  {
   "cell_type": "code",
   "execution_count": 127,
   "metadata": {
    "collapsed": false
   },
   "outputs": [
    {
     "data": {
      "text/plain": [
       "0001-01-01T18:40:22.539"
      ]
     },
     "execution_count": 127,
     "metadata": {},
     "output_type": "execute_result"
    }
   ],
   "source": [
    "HoraInicial = HoraCaptura[2]"
   ]
  },
  {
   "cell_type": "markdown",
   "metadata": {},
   "source": [
    "Número de elementos en cada periodo de 10 minutos"
   ]
  },
  {
   "cell_type": "code",
   "execution_count": 132,
   "metadata": {
    "collapsed": false
   },
   "outputs": [
    {
     "data": {
      "text/plain": [
       "15-element Array{Int64,1}:\n",
       "   10\n",
       "   28\n",
       "   93\n",
       "  174\n",
       "  285\n",
       "  428\n",
       "  547\n",
       "  690\n",
       "  818\n",
       "  925\n",
       " 1015\n",
       " 1106\n",
       " 1203\n",
       " 1277\n",
       " 1346"
      ]
     },
     "execution_count": 132,
     "metadata": {},
     "output_type": "execute_result"
    }
   ],
   "source": [
    "ElementosFinales = Int64[]\n",
    "Hora = HoraInicial + Dates.Minute(10)\n",
    "\n",
    "for period = 1:15\n",
    "    for i = 1:length(HoraCaptura)\n",
    "        if HoraCaptura[i] >= Hora && HoraCaptura[i-1] < Hora\n",
    "            push!(ElementosFinales, i)\n",
    "        end\n",
    "    end\n",
    "    Hora += Dates.Minute(10)\n",
    "end\n",
    "push!(ElementosFinales, length(HoraCaptura))"
   ]
  },
  {
   "cell_type": "code",
   "execution_count": 138,
   "metadata": {
    "collapsed": false
   },
   "outputs": [],
   "source": [
    "Desviaciones = zeros(15, 6)\n",
    "\n",
    "for candidato = 1:6\n",
    "    Desviaciones[1, candidato] = std(Porcentajes[1:ElementosFinales[1], candidato])\n",
    "end\n",
    "\n",
    "for candidato = 1:6\n",
    "    for period = 2:15\n",
    "        Desviaciones[period, candidato] = std(Porcentajes[ElementosFinales[period-1]+1:ElementosFinales[period], candidato])\n",
    "    end\n",
    "end"
   ]
  },
  {
   "cell_type": "markdown",
   "metadata": {},
   "source": [
    "+ Desviaciones antes de las 20 horas"
   ]
  },
  {
   "cell_type": "code",
   "execution_count": 155,
   "metadata": {
    "collapsed": false
   },
   "outputs": [
    {
     "data": {
      "image/png": "[encoded data removed]",
      "text/plain": [
       "PyPlot.Figure(PyObject <matplotlib.figure.Figure object at 0x32ab91e90>)"
      ]
     },
     "metadata": {},
     "output_type": "display_data"
    },
    {
     "data": {
      "text/plain": [
       "PyObject <matplotlib.text.Text object at 0x32b5cd490>"
      ]
     },
     "execution_count": 155,
     "metadata": {},
     "output_type": "execute_result"
    }
   ],
   "source": [
    "plot(HoraCaptura[ElementosFinales[1:7]], Desviaciones[1:7, 1], \"g^\")\n",
    "plot(HoraCaptura[ElementosFinales[1:7]], Desviaciones[1:7, 2], \"ko\")\n",
    "plot(HoraCaptura[ElementosFinales[1:7]], Desviaciones[1:7, 3], \"yd\")\n",
    "plot(HoraCaptura[ElementosFinales[1:7]], Desviaciones[1:7, 4], \"b+\")\n",
    "plot(HoraCaptura[ElementosFinales[1:7]], Desviaciones[1:7, 5], \"ro\")\n",
    "plot(HoraCaptura[ElementosFinales[1:7]], Desviaciones[1:7, 6], \"mo\")\n",
    "grid()\n",
    "xlabel(\"Hora\")\n",
    "ylabel(\"Desviación durante 10 min [%]\")"
   ]
  },
  {
   "cell_type": "markdown",
   "metadata": {},
   "source": [
    "+ Desviaciones después de las 20 horas"
   ]
  },
  {
   "cell_type": "code",
   "execution_count": 157,
   "metadata": {
    "collapsed": false
   },
   "outputs": [
    {
     "data": {
      "image/png": "[encoded data removed]",
      "text/plain": [
       "PyPlot.Figure(PyObject <matplotlib.figure.Figure object at 0x32babc910>)"
      ]
     },
     "metadata": {},
     "output_type": "display_data"
    },
    {
     "data": {
      "text/plain": [
       "PyObject <matplotlib.text.Text object at 0x32b747b90>"
      ]
     },
     "execution_count": 157,
     "metadata": {},
     "output_type": "execute_result"
    }
   ],
   "source": [
    "plot(HoraCaptura[ElementosFinales[8:end]], Desviaciones[8:end, 1], \"g^\")\n",
    "plot(HoraCaptura[ElementosFinales[8:end]], Desviaciones[8:end, 2], \"ko\")\n",
    "plot(HoraCaptura[ElementosFinales[8:end]], Desviaciones[8:end, 3], \"yd\")\n",
    "plot(HoraCaptura[ElementosFinales[8:end]], Desviaciones[8:end, 4], \"b+\")\n",
    "plot(HoraCaptura[ElementosFinales[8:end]], Desviaciones[8:end, 5], \"ro\")\n",
    "plot(HoraCaptura[ElementosFinales[8:end]], Desviaciones[8:end, 6], \"mo\")\n",
    "grid()\n",
    "xlabel(\"Hora\")\n",
    "ylabel(\"Desviación durante 10 min [%]\")"
   ]
  },
  {
   "cell_type": "markdown",
   "metadata": {},
   "source": [
    "Si tomamos el promedio del porcentaje de votos de los dos candidatos puntos durante el último periodo de tiempo, obtenemos que:\n",
    "\n",
    "+ Alfredo del Mazo: 33.83%$\\pm$0.05%\n",
    "\n",
    "+ Delfina Gómez: 32.31%$\\pm$0.03%"
   ]
  },
  {
   "cell_type": "markdown",
   "metadata": {},
   "source": [
    "Ya había elementos para llamar al ganador de la elección. Sin embargo, al haber menos de 1% entre los dos punteros, el llamar al ganador es bastante arriesgado. Sobre todo teniendo en cuenta que estos análisis son solo sobre una muestra estadística y no el conjunto completo. También, sabiendo lo diverso que es el Estado de México y observando picos como los vistos en la gráfica sobre la evolución temporal de los porcentajes. Un pico como estos podría volver a pasar, rompiendo el equilibrio. \n",
    "\n"
   ]
  },
  {
   "cell_type": "markdown",
   "metadata": {},
   "source": [
    "Una razón para llamar podría ser que aquellos municipios donde hubo \"picos\" se contaron al inicio para después obtener una entrada de listas más homogénea.\n",
    "\n",
    "Otra razón, aunque no tiene valor estadístico, es que recibieron presión política para llamar lo antes posible al ganador."
   ]
  },
  {
   "cell_type": "markdown",
   "metadata": {},
   "source": [
    "### 5"
   ]
  },
  {
   "cell_type": "markdown",
   "metadata": {},
   "source": [
    "Inconsistencias que se me podrían pasar:\n",
    "\n",
    "+ Número de votos es mayor a la lista nominal;\n",
    "\n",
    "+ Suma de votos no es igual al total mostrado;\n",
    "\n",
    "+ Actividad inusual en una de las casillas (muy alto porcentaje de voto)."
   ]
  },
  {
   "cell_type": "code",
   "execution_count": null,
   "metadata": {
    "collapsed": true
   },
   "outputs": [],
   "source": [
    "CasillasInconsistentes = Int64[]"
   ]
  },
  {
   "cell_type": "code",
   "execution_count": 167,
   "metadata": {
    "collapsed": false
   },
   "outputs": [
    {
     "data": {
      "text/plain": [
       "0"
      ]
     },
     "execution_count": 167,
     "metadata": {},
     "output_type": "execute_result"
    }
   ],
   "source": [
    "# Número de votos vs lista nominal\n",
    "\n",
    "for i = length(Data[:, 1])\n",
    "    if Data[i, 10] <= Data[i, end-6]\n",
    "        push!(CasillasInconsistentes, i)\n",
    "    end\n",
    "end\n",
    "\n",
    "length(CasillasInconsistentes)"
   ]
  },
  {
   "cell_type": "markdown",
   "metadata": {},
   "source": [
    "No hubo más votos que personas, ¡qué bien!"
   ]
  },
  {
   "cell_type": "code",
   "execution_count": 169,
   "metadata": {
    "collapsed": false
   },
   "outputs": [
    {
     "data": {
      "text/plain": [
       "0"
      ]
     },
     "execution_count": 169,
     "metadata": {},
     "output_type": "execute_result"
    }
   ],
   "source": [
    "# Suma total de votos no da\n",
    "\n",
    "for i = length(Data[:, 1])\n",
    "    if sum(Data[i, 11:end-7]) != Data[i, end-6]\n",
    "        push!(CasillasInconsistentes, i)\n",
    "    end\n",
    "end\n",
    "\n",
    "length(CasillasInconsistentes)"
   ]
  },
  {
   "cell_type": "markdown",
   "metadata": {},
   "source": [
    "¡Tampoco hubo alguien que se equivocó al sumar!"
   ]
  },
  {
   "cell_type": "code",
   "execution_count": 208,
   "metadata": {
    "collapsed": false
   },
   "outputs": [
    {
     "data": {
      "image/png": "[encoded data removed]",
      "text/plain": [
       "PyPlot.Figure(PyObject <matplotlib.figure.Figure object at 0x32caf1610>)"
      ]
     },
     "metadata": {},
     "output_type": "display_data"
    },
    {
     "data": {
      "text/plain": [
       "PyObject <matplotlib.text.Text object at 0x32d142d50>"
      ]
     },
     "execution_count": 208,
     "metadata": {},
     "output_type": "execute_result"
    }
   ],
   "source": [
    "# Actividad de las casillas\n",
    "\n",
    "PorcentajeActividadCasillas = Float64[]\n",
    "\n",
    "for i = 2:length(Data[:, 1])\n",
    "    push!(PorcentajeActividadCasillas, 100*Data[i, end-6]/Data[i, 10])\n",
    "end\n",
    "\n",
    "PyPlot.plt[:hist](PorcentajeActividadCasillas, range=[0, 100])\n",
    "xlabel(\"porcentaje de votos\")"
   ]
  },
  {
   "cell_type": "code",
   "execution_count": 213,
   "metadata": {
    "collapsed": false
   },
   "outputs": [
    {
     "data": {
      "text/plain": [
       "(53.993480926452236,9.697673764090156)"
      ]
     },
     "execution_count": 213,
     "metadata": {},
     "output_type": "execute_result"
    }
   ],
   "source": [
    "mean(PorcentajeActividadCasillas), std(PorcentajeActividadCasillas)"
   ]
  },
  {
   "cell_type": "markdown",
   "metadata": {},
   "source": [
    "Encontramos una distribución que tiene cara de gaussiana. Esto es justo lo que estabamos esperando. Sin embargo, llama la atención aquellas casillas que tienen una actividad menor al 10%."
   ]
  },
  {
   "cell_type": "code",
   "execution_count": 214,
   "metadata": {
    "collapsed": false
   },
   "outputs": [
    {
     "name": "stdout",
     "output_type": "stream",
     "text": [
      "79\n"
     ]
    }
   ],
   "source": [
    "for (idx, porcentaje) in enumerate(PorcentajeActividadCasillas)\n",
    "    if porcentaje < 10\n",
    "        println(idx)\n",
    "    end\n",
    "end\n"
   ]
  },
  {
   "cell_type": "markdown",
   "metadata": {},
   "source": [
    "Solo la casilla correspondiente a"
   ]
  },
  {
   "cell_type": "code",
   "execution_count": 221,
   "metadata": {
    "collapsed": false
   },
   "outputs": [
    {
     "data": {
      "text/plain": [
       "39-element DataArrays.DataArray{Any,1}:\n",
       "   22.0                   \n",
       " 2719.0                   \n",
       "     \"B\"                  \n",
       "    1.0                   \n",
       "    0.0                   \n",
       "    1.0                   \n",
       "   58.0                   \n",
       "     \"NAUCALPAN DE JUAREZ\"\n",
       "   30.0                   \n",
       "  179.0                   \n",
       "    6.0                   \n",
       "    2.0                   \n",
       "    0.0                   \n",
       "    ⋮                     \n",
       "    0.0                   \n",
       "    0.0                   \n",
       "    0.0                   \n",
       "    0.0                   \n",
       "    0.0                   \n",
       "   10.0                   \n",
       "     \"2017-06-04\"         \n",
       "     \"19:04:31.788\"       \n",
       "     \"19:09:01.013\"       \n",
       "     \"cap-105\"            \n",
       "     \"22-66\"              \n",
       " 2748.0                   "
      ]
     },
     "execution_count": 221,
     "metadata": {},
     "output_type": "execute_result"
    }
   ],
   "source": [
    "Data[80, :]"
   ]
  },
  {
   "cell_type": "markdown",
   "metadata": {},
   "source": [
    "Llama la atención que en una casilla de la zona metrolopitana solo diez personas haya votado cuando 179 pudieron haberlo hecho."
   ]
  },
  {
   "cell_type": "markdown",
   "metadata": {},
   "source": [
    "Veamos ahora qué candidatos fueron votados en aquellas casillas con mayor porcentaje con respecto al valor esperado + desviación estándar"
   ]
  },
  {
   "cell_type": "code",
   "execution_count": 224,
   "metadata": {
    "collapsed": false
   },
   "outputs": [],
   "source": [
    "CasillasMayorActividad = Int64[]\n",
    "\n",
    "for (idx, porcentaje) in enumerate(PorcentajeActividadCasillas)\n",
    "    if porcentaje > mean(PorcentajeActividadCasillas)+std(PorcentajeActividadCasillas)\n",
    "        push!(CasillasMayorActividad,idx)\n",
    "    end\n",
    "end"
   ]
  },
  {
   "cell_type": "code",
   "execution_count": 228,
   "metadata": {
    "collapsed": false
   },
   "outputs": [],
   "source": [
    "VotosMayorActividad = zeros(length(CasillasMayorActividad), 6)\n",
    "\n",
    "for col in CombinacionesPRI\n",
    "    for (idx, casilla) in enumerate(CasillasMayorActividad)\n",
    "        VotosMayorActividad[idx, 1] += Data[casilla+1, col]\n",
    "    end\n",
    "end\n",
    "\n",
    "for (idx, casilla) in enumerate(CasillasMayorActividad)\n",
    "    VotosMayorActividad[idx, 2] += Data[casilla+1, 17]\n",
    "    VotosMayorActividad[idx, 3] += Data[casilla+1, 13]\n",
    "    VotosMayorActividad[idx, 4] += Data[casilla+1, 11]\n",
    "    VotosMayorActividad[idx, 5] += Data[casilla+1, 30]\n",
    "    VotosMayorActividad[idx, 6] += Data[casilla+1, 14]\n",
    "end"
   ]
  },
  {
   "cell_type": "code",
   "execution_count": 230,
   "metadata": {
    "collapsed": false
   },
   "outputs": [
    {
     "name": "stdout",
     "output_type": "stream",
     "text": [
      "[145.74,59.933]\n",
      "[97.9461,48.0235]\n",
      "[62.1275,40.2015]\n",
      "[42.6225,27.7197]\n",
      "[7.9951,5.00787]\n",
      "[5.62255,5.74925]\n"
     ]
    }
   ],
   "source": [
    "for i = 1:6\n",
    "    println([mean(VotosMayorActividad[:, i]), std(VotosMayorActividad[:, i])])\n",
    "end"
   ]
  },
  {
   "cell_type": "markdown",
   "metadata": {},
   "source": [
    "Observamos como la ventaja de Alfredo del Mazo en estas casillas es significicamente mayor. Mientras que en los resultados generales la diferencia entre estos dos es de 3%, en estos resultados se aprecia una diferencia mayor. \n",
    "\n",
    "Otro dato es muy relevante. la desviación estándar para todos los candidatos en estas casillas es cercano o mayor al 50% de su valor esperado. Sin embargo, para Alfredo del mazo, su desviación estándar es del 41.1%."
   ]
  },
  {
   "cell_type": "markdown",
   "metadata": {},
   "source": [
    "#### Casillas de menor votación"
   ]
  },
  {
   "cell_type": "code",
   "execution_count": 234,
   "metadata": {
    "collapsed": false
   },
   "outputs": [
    {
     "name": "stdout",
     "output_type": "stream",
     "text": [
      "[83.2042,22.9985]\n",
      "[83.9843,22.8997]\n",
      "[46.9215,27.1551]\n",
      "[22.3874,15.0549]\n",
      "[5.31937,3.22124]\n",
      "[2.20419,1.86242]\n"
     ]
    }
   ],
   "source": [
    "CasillasMenorActividad = Int64[]\n",
    "\n",
    "for (idx, porcentaje) in enumerate(PorcentajeActividadCasillas)\n",
    "    if porcentaje < mean(PorcentajeActividadCasillas)-std(PorcentajeActividadCasillas)\n",
    "        push!(CasillasMenorActividad,idx)\n",
    "    end\n",
    "end\n",
    "\n",
    "VotosMenorActividad = zeros(length(CasillasMenorActividad), 6)\n",
    "\n",
    "for col in CombinacionesPRI\n",
    "    for (idx, casilla) in enumerate(CasillasMenorActividad)\n",
    "        VotosMenorActividad[idx, 1] += Data[casilla+1, col]\n",
    "    end\n",
    "end\n",
    "\n",
    "for (idx, casilla) in enumerate(CasillasMenorActividad)\n",
    "    VotosMenorActividad[idx, 2] += Data[casilla+1, 17]\n",
    "    VotosMenorActividad[idx, 3] += Data[casilla+1, 13]\n",
    "    VotosMenorActividad[idx, 4] += Data[casilla+1, 11]\n",
    "    VotosMenorActividad[idx, 5] += Data[casilla+1, 30]\n",
    "    VotosMenorActividad[idx, 6] += Data[casilla+1, 14]\n",
    "end\n",
    "\n",
    "for i = 1:6\n",
    "    println([mean(VotosMenorActividad[:, i]), std(VotosMenorActividad[:, i])])\n",
    "end"
   ]
  },
  {
   "cell_type": "markdown",
   "metadata": {},
   "source": [
    "En estas casillas encontramos otra distribución del voto. Alfredo del Mazo y Delfina están prácticamente empatados (incluso tomando en cuenta sus desviaciones estándar). Notamos aquí como las desviaciones estándar significan un 50% o más del valor esperado para los demás candidatos. Para Alfredo del Mazo y Delfina, esta significa poco más del 27%."
   ]
  },
  {
   "cell_type": "markdown",
   "metadata": {},
   "source": [
    "#### Me encantaría seguir analizando los resultados, pero ya se me acabó el tiempo. Sin embargo, aquí está lo que me hubiera gustado hacer:\n",
    "\n",
    "+ Buscar si todas las casillas se contaron una única vez;\n",
    "\n",
    "+ Comparar las casillas del conteo rápido con los resultados finales;\n",
    "\n",
    "+ Utilizando la base de datos de las casillas, primero ver que coincidan (¡casilla por casilla!) y luego ver que los datos de la lista nominal coincidan.\n",
    "\n",
    "+ A partir de la lista nominal y con los porcentajes históricos de voto, estimar cual es el porcentaje de voto que se esperaría para una elección. A partir de eso comparar con los datos obtenido y observar si hay diferencias significativas."
   ]
  },
  {
   "cell_type": "code",
   "execution_count": null,
   "metadata": {
    "collapsed": true
   },
   "outputs": [],
   "source": []
  }
 ],
 "metadata": {
  "anaconda-cloud": {},
  "kernelspec": {
   "display_name": "Julia 0.5.0",
   "language": "julia",
   "name": "julia-0.5"
  },
  "language_info": {
   "file_extension": ".jl",
   "mimetype": "application/julia",
   "name": "julia",
   "version": "0.5.0"
  }
 },
 "nbformat": 4,
 "nbformat_minor": 1
}
